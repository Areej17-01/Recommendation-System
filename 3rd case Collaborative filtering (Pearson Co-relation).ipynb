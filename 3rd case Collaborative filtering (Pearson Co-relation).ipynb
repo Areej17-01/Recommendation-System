{
 "cells": [
  {
   "cell_type": "code",
   "execution_count": 2,
   "id": "595842af",
   "metadata": {},
   "outputs": [],
   "source": [
    "import numpy as np\n",
    "import pandas as pd\n",
    "import matplotlib.pyplot as plt\n",
    "import seaborn as sns\n",
    "sns.set()"
   ]
  },
  {
   "cell_type": "markdown",
   "id": "4fb80bf2",
   "metadata": {},
   "source": [
    "I  am using a different data set here as the previous one didnt have the ratings data which is important for collaborative filtering\n",
    "(download dataset from https://www.kaggle.com/datasets/skillsmuggler/amazon-ratings)"
   ]
  },
  {
   "cell_type": "code",
   "execution_count": 5,
   "id": "5dee978d",
   "metadata": {},
   "outputs": [],
   "source": [
    "df=pd.read_csv(\"ratings_Beauty.csv\")"
   ]
  },
  {
   "cell_type": "code",
   "execution_count": 14,
   "id": "ca3a2ad5",
   "metadata": {},
   "outputs": [
    {
     "data": {
      "text/html": [
       "<div>\n",
       "<style scoped>\n",
       "    .dataframe tbody tr th:only-of-type {\n",
       "        vertical-align: middle;\n",
       "    }\n",
       "\n",
       "    .dataframe tbody tr th {\n",
       "        vertical-align: top;\n",
       "    }\n",
       "\n",
       "    .dataframe thead th {\n",
       "        text-align: right;\n",
       "    }\n",
       "</style>\n",
       "<table border=\"1\" class=\"dataframe\">\n",
       "  <thead>\n",
       "    <tr style=\"text-align: right;\">\n",
       "      <th></th>\n",
       "      <th>UserId</th>\n",
       "      <th>ProductId</th>\n",
       "      <th>Rating</th>\n",
       "      <th>Timestamp</th>\n",
       "    </tr>\n",
       "  </thead>\n",
       "  <tbody>\n",
       "    <tr>\n",
       "      <th>0</th>\n",
       "      <td>A39HTATAQ9V7YF</td>\n",
       "      <td>0205616461</td>\n",
       "      <td>5.0</td>\n",
       "      <td>1369699200</td>\n",
       "    </tr>\n",
       "    <tr>\n",
       "      <th>1</th>\n",
       "      <td>A3JM6GV9MNOF9X</td>\n",
       "      <td>0558925278</td>\n",
       "      <td>3.0</td>\n",
       "      <td>1355443200</td>\n",
       "    </tr>\n",
       "    <tr>\n",
       "      <th>2</th>\n",
       "      <td>A1Z513UWSAAO0F</td>\n",
       "      <td>0558925278</td>\n",
       "      <td>5.0</td>\n",
       "      <td>1404691200</td>\n",
       "    </tr>\n",
       "    <tr>\n",
       "      <th>3</th>\n",
       "      <td>A1WMRR494NWEWV</td>\n",
       "      <td>0733001998</td>\n",
       "      <td>4.0</td>\n",
       "      <td>1382572800</td>\n",
       "    </tr>\n",
       "    <tr>\n",
       "      <th>4</th>\n",
       "      <td>A3IAAVS479H7M7</td>\n",
       "      <td>0737104473</td>\n",
       "      <td>1.0</td>\n",
       "      <td>1274227200</td>\n",
       "    </tr>\n",
       "  </tbody>\n",
       "</table>\n",
       "</div>"
      ],
      "text/plain": [
       "           UserId   ProductId  Rating   Timestamp\n",
       "0  A39HTATAQ9V7YF  0205616461     5.0  1369699200\n",
       "1  A3JM6GV9MNOF9X  0558925278     3.0  1355443200\n",
       "2  A1Z513UWSAAO0F  0558925278     5.0  1404691200\n",
       "3  A1WMRR494NWEWV  0733001998     4.0  1382572800\n",
       "4  A3IAAVS479H7M7  0737104473     1.0  1274227200"
      ]
     },
     "execution_count": 14,
     "metadata": {},
     "output_type": "execute_result"
    }
   ],
   "source": [
    "data=df.copy()\n",
    "data.head(5)"
   ]
  },
  {
   "cell_type": "code",
   "execution_count": 9,
   "id": "20659238",
   "metadata": {},
   "outputs": [],
   "source": [
    "data=data.head(15000)"
   ]
  },
  {
   "cell_type": "markdown",
   "id": "f5a718bb",
   "metadata": {},
   "source": [
    "Creating a pivot table to create matrix  for collaborative filtering"
   ]
  },
  {
   "cell_type": "code",
   "execution_count": 12,
   "id": "bce27d0d",
   "metadata": {},
   "outputs": [],
   "source": [
    "matrix=data.pivot_table(values='Rating', index='UserId', columns='ProductId', fill_value=0)\n"
   ]
  },
  {
   "cell_type": "code",
   "execution_count": 13,
   "id": "672e7a4e",
   "metadata": {},
   "outputs": [
    {
     "data": {
      "text/html": [
       "<div>\n",
       "<style scoped>\n",
       "    .dataframe tbody tr th:only-of-type {\n",
       "        vertical-align: middle;\n",
       "    }\n",
       "\n",
       "    .dataframe tbody tr th {\n",
       "        vertical-align: top;\n",
       "    }\n",
       "\n",
       "    .dataframe thead th {\n",
       "        text-align: right;\n",
       "    }\n",
       "</style>\n",
       "<table border=\"1\" class=\"dataframe\">\n",
       "  <thead>\n",
       "    <tr style=\"text-align: right;\">\n",
       "      <th>ProductId</th>\n",
       "      <th>0205616461</th>\n",
       "      <th>0558925278</th>\n",
       "      <th>0733001998</th>\n",
       "      <th>0737104473</th>\n",
       "      <th>0762451459</th>\n",
       "      <th>1304139212</th>\n",
       "      <th>1304139220</th>\n",
       "      <th>130414089X</th>\n",
       "      <th>130414643X</th>\n",
       "      <th>1304146537</th>\n",
       "      <th>...</th>\n",
       "      <th>B0000535AW</th>\n",
       "      <th>B0000535B4</th>\n",
       "      <th>B0000535BD</th>\n",
       "      <th>B0000535CH</th>\n",
       "      <th>B0000535EM</th>\n",
       "      <th>B0000535EO</th>\n",
       "      <th>B0000535OF</th>\n",
       "      <th>B0000535QU</th>\n",
       "      <th>B0000535QX</th>\n",
       "      <th>B0000535RA</th>\n",
       "    </tr>\n",
       "    <tr>\n",
       "      <th>UserId</th>\n",
       "      <th></th>\n",
       "      <th></th>\n",
       "      <th></th>\n",
       "      <th></th>\n",
       "      <th></th>\n",
       "      <th></th>\n",
       "      <th></th>\n",
       "      <th></th>\n",
       "      <th></th>\n",
       "      <th></th>\n",
       "      <th></th>\n",
       "      <th></th>\n",
       "      <th></th>\n",
       "      <th></th>\n",
       "      <th></th>\n",
       "      <th></th>\n",
       "      <th></th>\n",
       "      <th></th>\n",
       "      <th></th>\n",
       "      <th></th>\n",
       "      <th></th>\n",
       "    </tr>\n",
       "  </thead>\n",
       "  <tbody>\n",
       "    <tr>\n",
       "      <th>A00205921JHJK5X9LNP42</th>\n",
       "      <td>0</td>\n",
       "      <td>0</td>\n",
       "      <td>0</td>\n",
       "      <td>0</td>\n",
       "      <td>0</td>\n",
       "      <td>0</td>\n",
       "      <td>0</td>\n",
       "      <td>0</td>\n",
       "      <td>0</td>\n",
       "      <td>0</td>\n",
       "      <td>...</td>\n",
       "      <td>0</td>\n",
       "      <td>0</td>\n",
       "      <td>0</td>\n",
       "      <td>0</td>\n",
       "      <td>0</td>\n",
       "      <td>0</td>\n",
       "      <td>0</td>\n",
       "      <td>0</td>\n",
       "      <td>0</td>\n",
       "      <td>0</td>\n",
       "    </tr>\n",
       "    <tr>\n",
       "      <th>A00473363TJ8YSZ3YAGG9</th>\n",
       "      <td>0</td>\n",
       "      <td>0</td>\n",
       "      <td>0</td>\n",
       "      <td>0</td>\n",
       "      <td>0</td>\n",
       "      <td>0</td>\n",
       "      <td>0</td>\n",
       "      <td>0</td>\n",
       "      <td>0</td>\n",
       "      <td>0</td>\n",
       "      <td>...</td>\n",
       "      <td>0</td>\n",
       "      <td>0</td>\n",
       "      <td>0</td>\n",
       "      <td>0</td>\n",
       "      <td>0</td>\n",
       "      <td>0</td>\n",
       "      <td>0</td>\n",
       "      <td>0</td>\n",
       "      <td>0</td>\n",
       "      <td>0</td>\n",
       "    </tr>\n",
       "    <tr>\n",
       "      <th>A024581134CV80ZBLIZTZ</th>\n",
       "      <td>0</td>\n",
       "      <td>0</td>\n",
       "      <td>0</td>\n",
       "      <td>0</td>\n",
       "      <td>0</td>\n",
       "      <td>0</td>\n",
       "      <td>0</td>\n",
       "      <td>0</td>\n",
       "      <td>0</td>\n",
       "      <td>0</td>\n",
       "      <td>...</td>\n",
       "      <td>0</td>\n",
       "      <td>0</td>\n",
       "      <td>0</td>\n",
       "      <td>0</td>\n",
       "      <td>0</td>\n",
       "      <td>0</td>\n",
       "      <td>0</td>\n",
       "      <td>0</td>\n",
       "      <td>0</td>\n",
       "      <td>0</td>\n",
       "    </tr>\n",
       "    <tr>\n",
       "      <th>A03056581JJIOL5FSKJY7</th>\n",
       "      <td>0</td>\n",
       "      <td>0</td>\n",
       "      <td>0</td>\n",
       "      <td>0</td>\n",
       "      <td>0</td>\n",
       "      <td>0</td>\n",
       "      <td>0</td>\n",
       "      <td>0</td>\n",
       "      <td>0</td>\n",
       "      <td>0</td>\n",
       "      <td>...</td>\n",
       "      <td>0</td>\n",
       "      <td>0</td>\n",
       "      <td>0</td>\n",
       "      <td>0</td>\n",
       "      <td>0</td>\n",
       "      <td>0</td>\n",
       "      <td>0</td>\n",
       "      <td>0</td>\n",
       "      <td>0</td>\n",
       "      <td>0</td>\n",
       "    </tr>\n",
       "    <tr>\n",
       "      <th>A03099101ZRK4K607JVHH</th>\n",
       "      <td>0</td>\n",
       "      <td>0</td>\n",
       "      <td>0</td>\n",
       "      <td>0</td>\n",
       "      <td>0</td>\n",
       "      <td>0</td>\n",
       "      <td>0</td>\n",
       "      <td>0</td>\n",
       "      <td>0</td>\n",
       "      <td>0</td>\n",
       "      <td>...</td>\n",
       "      <td>0</td>\n",
       "      <td>0</td>\n",
       "      <td>0</td>\n",
       "      <td>0</td>\n",
       "      <td>0</td>\n",
       "      <td>0</td>\n",
       "      <td>0</td>\n",
       "      <td>0</td>\n",
       "      <td>0</td>\n",
       "      <td>0</td>\n",
       "    </tr>\n",
       "  </tbody>\n",
       "</table>\n",
       "<p>5 rows × 1178 columns</p>\n",
       "</div>"
      ],
      "text/plain": [
       "ProductId              0205616461  0558925278  0733001998  0737104473  \\\n",
       "UserId                                                                  \n",
       "A00205921JHJK5X9LNP42           0           0           0           0   \n",
       "A00473363TJ8YSZ3YAGG9           0           0           0           0   \n",
       "A024581134CV80ZBLIZTZ           0           0           0           0   \n",
       "A03056581JJIOL5FSKJY7           0           0           0           0   \n",
       "A03099101ZRK4K607JVHH           0           0           0           0   \n",
       "\n",
       "ProductId              0762451459  1304139212  1304139220  130414089X  \\\n",
       "UserId                                                                  \n",
       "A00205921JHJK5X9LNP42           0           0           0           0   \n",
       "A00473363TJ8YSZ3YAGG9           0           0           0           0   \n",
       "A024581134CV80ZBLIZTZ           0           0           0           0   \n",
       "A03056581JJIOL5FSKJY7           0           0           0           0   \n",
       "A03099101ZRK4K607JVHH           0           0           0           0   \n",
       "\n",
       "ProductId              130414643X  1304146537  ...  B0000535AW  B0000535B4  \\\n",
       "UserId                                         ...                           \n",
       "A00205921JHJK5X9LNP42           0           0  ...           0           0   \n",
       "A00473363TJ8YSZ3YAGG9           0           0  ...           0           0   \n",
       "A024581134CV80ZBLIZTZ           0           0  ...           0           0   \n",
       "A03056581JJIOL5FSKJY7           0           0  ...           0           0   \n",
       "A03099101ZRK4K607JVHH           0           0  ...           0           0   \n",
       "\n",
       "ProductId              B0000535BD  B0000535CH  B0000535EM  B0000535EO  \\\n",
       "UserId                                                                  \n",
       "A00205921JHJK5X9LNP42           0           0           0           0   \n",
       "A00473363TJ8YSZ3YAGG9           0           0           0           0   \n",
       "A024581134CV80ZBLIZTZ           0           0           0           0   \n",
       "A03056581JJIOL5FSKJY7           0           0           0           0   \n",
       "A03099101ZRK4K607JVHH           0           0           0           0   \n",
       "\n",
       "ProductId              B0000535OF  B0000535QU  B0000535QX  B0000535RA  \n",
       "UserId                                                                 \n",
       "A00205921JHJK5X9LNP42           0           0           0           0  \n",
       "A00473363TJ8YSZ3YAGG9           0           0           0           0  \n",
       "A024581134CV80ZBLIZTZ           0           0           0           0  \n",
       "A03056581JJIOL5FSKJY7           0           0           0           0  \n",
       "A03099101ZRK4K607JVHH           0           0           0           0  \n",
       "\n",
       "[5 rows x 1178 columns]"
      ]
     },
     "execution_count": 13,
     "metadata": {},
     "output_type": "execute_result"
    }
   ],
   "source": [
    "matrix.head()"
   ]
  },
  {
   "cell_type": "markdown",
   "id": "8542f114",
   "metadata": {},
   "source": [
    "transposing it to have product id on left"
   ]
  },
  {
   "cell_type": "code",
   "execution_count": 21,
   "id": "f8bc0df7",
   "metadata": {},
   "outputs": [],
   "source": [
    "matrix=matrix.T\n",
    "X=matrix"
   ]
  },
  {
   "cell_type": "markdown",
   "id": "438f5fea",
   "metadata": {},
   "source": [
    "decomposing matrix by SVD(works efficiently with vount/tf-idf vectorized,PCA skips less significant components ) for dimension reduction"
   ]
  },
  {
   "cell_type": "code",
   "execution_count": 22,
   "id": "33ff773f",
   "metadata": {},
   "outputs": [],
   "source": [
    "import sklearn\n",
    "from sklearn.decomposition import TruncatedSVD"
   ]
  },
  {
   "cell_type": "code",
   "execution_count": 23,
   "id": "bedaf5ed",
   "metadata": {},
   "outputs": [],
   "source": [
    "SVD = TruncatedSVD(n_components=10)\n"
   ]
  },
  {
   "cell_type": "code",
   "execution_count": 26,
   "id": "55dd2acb",
   "metadata": {},
   "outputs": [
    {
     "data": {
      "text/plain": [
       "(14410, 10)"
      ]
     },
     "execution_count": 26,
     "metadata": {},
     "output_type": "execute_result"
    }
   ],
   "source": [
    "decomposed = SVD.fit_transform(X)\n",
    "decomposed.shape"
   ]
  },
  {
   "cell_type": "code",
   "execution_count": 28,
   "id": "2cf5dc43",
   "metadata": {},
   "outputs": [
    {
     "data": {
      "text/plain": [
       "array([[-1.75725951e-09,  3.82146017e-08,  2.22398305e-08, ...,\n",
       "         3.86563784e-08, -4.44913369e-06, -7.78123577e-07],\n",
       "       [-6.82338882e-07,  1.74608538e-05,  7.65183947e-06, ...,\n",
       "         3.31020193e-05, -1.26756139e-04,  3.48147345e-04],\n",
       "       [ 3.69619216e-16,  5.32239573e-15, -2.25389576e-16, ...,\n",
       "        -1.09689917e-13, -1.98382343e-14, -1.36445255e-13],\n",
       "       ...,\n",
       "       [ 5.69752555e-02, -4.28880118e-04,  6.73178576e-03, ...,\n",
       "        -1.98764376e-02,  1.12167541e-01, -5.75165203e-03],\n",
       "       [ 3.89102621e-05,  1.70999425e-04,  1.97736390e+00, ...,\n",
       "        -6.53603428e-03, -4.99411289e-03, -2.58781452e-02],\n",
       "       [ 5.98388886e-03,  8.04658511e-05,  4.21984478e-02, ...,\n",
       "         4.79916425e-03,  1.13251475e-01,  2.98984935e+00]])"
      ]
     },
     "execution_count": 28,
     "metadata": {},
     "output_type": "execute_result"
    }
   ],
   "source": [
    "decomposed"
   ]
  },
  {
   "cell_type": "markdown",
   "id": "a1e0563c",
   "metadata": {},
   "source": [
    "### Pearson's coefficient for centered cosine similarity"
   ]
  },
  {
   "cell_type": "code",
   "execution_count": 32,
   "id": "cc0c5a31",
   "metadata": {},
   "outputs": [
    {
     "data": {
      "image/png": "[encoded data removed]",
      "text/plain": [
       "<PIL.JpegImagePlugin.JpegImageFile image mode=RGB size=889x332 at 0x20C015AE0A0>"
      ]
     },
     "execution_count": 32,
     "metadata": {},
     "output_type": "execute_result"
    }
   ],
   "source": [
    "from PIL import Image\n",
    "myImage = Image.open(\"pearson.JPG\")\n",
    "myImage"
   ]
  },
  {
   "cell_type": "markdown",
   "id": "dbad427c",
   "metadata": {},
   "source": [
    "source: https://numpy.org/doc/stable/reference/generated/numpy.nanmean.html"
   ]
  },
  {
   "cell_type": "markdown",
   "id": "f6773ea5",
   "metadata": {},
   "source": [
    "we use pearson corelation for collaborative mostly because it treats zeros as average ,handles tough and easy raters efficiently"
   ]
  },
  {
   "cell_type": "code",
   "execution_count": 106,
   "id": "2390a091",
   "metadata": {},
   "outputs": [
    {
     "data": {
      "text/plain": [
       "(14410, 14410)"
      ]
     },
     "execution_count": 106,
     "metadata": {},
     "output_type": "execute_result"
    }
   ],
   "source": [
    "correlation_pear = np.corrcoef(decomposed_matrix)\n",
    "correlation_pear.shape"
   ]
  },
  {
   "cell_type": "code",
   "execution_count": 107,
   "id": "d983009f",
   "metadata": {},
   "outputs": [
    {
     "data": {
      "text/plain": [
       "array([[ 1.        , -0.06413505,  0.08676904, ...,  0.69776907,\n",
       "         0.10532512, -0.82179316],\n",
       "       [-0.06413505,  1.        ,  0.07753567, ..., -0.12577043,\n",
       "        -0.10165201, -0.02899842],\n",
       "       [ 0.08676904,  0.07753567,  1.        , ..., -0.41104996,\n",
       "         0.03618039, -0.27234975],\n",
       "       [ 0.69776907, -0.12577043, -0.41104996, ...,  1.        ,\n",
       "         0.01998929, -0.26813209],\n",
       "       [ 0.69776907, -0.12577043, -0.41104996, ...,  1.        ,\n",
       "         0.01998929, -0.26813209]])"
      ]
     },
     "execution_count": 107,
     "metadata": {},
     "output_type": "execute_result"
    }
   ],
   "source": [
    "correlation_pear[:5]"
   ]
  },
  {
   "cell_type": "code",
   "execution_count": 108,
   "id": "959099b8",
   "metadata": {},
   "outputs": [],
   "source": [
    "prod_names = X.index\n",
    "prod_names=product_names.tolist()"
   ]
  },
  {
   "cell_type": "markdown",
   "id": "f83bd2da",
   "metadata": {},
   "source": [
    "### picking random product name"
   ]
  },
  {
   "cell_type": "code",
   "execution_count": 137,
   "id": "4d02f9a7",
   "metadata": {},
   "outputs": [
    {
     "data": {
      "text/plain": [
       "14401"
      ]
     },
     "execution_count": 137,
     "metadata": {},
     "output_type": "execute_result"
    }
   ],
   "source": [
    "val=prod_names[85]\n",
    "val=\"AZZ5ENX41WOYZ\"\n",
    "ind=prod_names.index(val)\n",
    "ind"
   ]
  },
  {
   "cell_type": "code",
   "execution_count": 138,
   "id": "e50ad9a1",
   "metadata": {},
   "outputs": [
    {
     "data": {
      "text/plain": [
       "((14410,),\n",
       " array([-0.38916075, -0.05599828,  0.19724378, ..., -0.69925104,\n",
       "        -0.11315902, -0.1185402 ]))"
      ]
     },
     "execution_count": 138,
     "metadata": {},
     "output_type": "execute_result"
    }
   ],
   "source": [
    "correlation_product = correlation_pear[ind]\n",
    "correlation_product.shape,correlation_product"
   ]
  },
  {
   "cell_type": "code",
   "execution_count": 139,
   "id": "bae30426",
   "metadata": {},
   "outputs": [
    {
     "data": {
      "text/plain": [
       "Index(['A00205921JHJK5X9LNP42', 'A00473363TJ8YSZ3YAGG9',\n",
       "       'A024581134CV80ZBLIZTZ', 'A03056581JJIOL5FSKJY7',\n",
       "       'A03099101ZRK4K607JVHH', 'A0505229A7NSH3FRXRR4',\n",
       "       'A05492663T95KW63BR75K', 'A059547920Q3LZVFHLPI3',\n",
       "       'A06298653TJ91G7R7MD6R', 'A065995424G4KBBX1V8BO',\n",
       "       ...\n",
       "       'AZYQEFB9Y5N22', 'AZZ5ENX41WOYZ', 'AZZ8A0TEQOD7J', 'AZZDA9BRMPP1B',\n",
       "       'AZZHB6U54UDYW', 'AZZHJZP4GQPPZ', 'AZZNK89PXD006', 'AZZOFVMQC0BJG',\n",
       "       'AZZQXL8VDCFTV', 'AZZTJQ7CQZUD8'],\n",
       "      dtype='object', name='UserId', length=14410)"
      ]
     },
     "execution_count": 139,
     "metadata": {},
     "output_type": "execute_result"
    }
   ],
   "source": [
    "X.index"
   ]
  },
  {
   "cell_type": "code",
   "execution_count": 166,
   "id": "0290665b",
   "metadata": {},
   "outputs": [],
   "source": [
    "#correlation_product[correlation_product>0.95]"
   ]
  },
  {
   "cell_type": "code",
   "execution_count": 141,
   "id": "ae05966b",
   "metadata": {},
   "outputs": [],
   "source": [
    "recommedation=[]\n",
    "recommedation=pd.DataFrame(recommedation)\n",
    "\n",
    "recommedation[\"products\"]=X.index[correlation_product>0.95]"
   ]
  },
  {
   "cell_type": "code",
   "execution_count": 142,
   "id": "790e3639",
   "metadata": {},
   "outputs": [],
   "source": [
    "recommedation[\"pearson_corr\"]=correlation_product[correlation_product>0.95]"
   ]
  },
  {
   "cell_type": "code",
   "execution_count": 144,
   "id": "155963dc",
   "metadata": {},
   "outputs": [],
   "source": [
    "ind_rec=recommedation[recommedation[\"products\"]==val].index[0]"
   ]
  },
  {
   "cell_type": "code",
   "execution_count": 145,
   "id": "587be648",
   "metadata": {},
   "outputs": [],
   "source": [
    "recommedation=recommedation.drop(0)"
   ]
  },
  {
   "cell_type": "code",
   "execution_count": 146,
   "id": "c725841c",
   "metadata": {},
   "outputs": [
    {
     "data": {
      "text/html": [
       "<div>\n",
       "<style scoped>\n",
       "    .dataframe tbody tr th:only-of-type {\n",
       "        vertical-align: middle;\n",
       "    }\n",
       "\n",
       "    .dataframe tbody tr th {\n",
       "        vertical-align: top;\n",
       "    }\n",
       "\n",
       "    .dataframe thead th {\n",
       "        text-align: right;\n",
       "    }\n",
       "</style>\n",
       "<table border=\"1\" class=\"dataframe\">\n",
       "  <thead>\n",
       "    <tr style=\"text-align: right;\">\n",
       "      <th></th>\n",
       "      <th>products</th>\n",
       "      <th>pearson_corr</th>\n",
       "    </tr>\n",
       "  </thead>\n",
       "  <tbody>\n",
       "    <tr>\n",
       "      <th>1</th>\n",
       "      <td>A112TFLXGBF6NI</td>\n",
       "      <td>0.999890</td>\n",
       "    </tr>\n",
       "    <tr>\n",
       "      <th>2</th>\n",
       "      <td>A116MBJQU5SC8W</td>\n",
       "      <td>0.999888</td>\n",
       "    </tr>\n",
       "    <tr>\n",
       "      <th>3</th>\n",
       "      <td>A11L8FAXNCSV44</td>\n",
       "      <td>0.999888</td>\n",
       "    </tr>\n",
       "    <tr>\n",
       "      <th>4</th>\n",
       "      <td>A11PV74FPA9W9N</td>\n",
       "      <td>0.999888</td>\n",
       "    </tr>\n",
       "    <tr>\n",
       "      <th>5</th>\n",
       "      <td>A12G40AZ9JW0OL</td>\n",
       "      <td>0.999888</td>\n",
       "    </tr>\n",
       "    <tr>\n",
       "      <th>...</th>\n",
       "      <td>...</td>\n",
       "      <td>...</td>\n",
       "    </tr>\n",
       "    <tr>\n",
       "      <th>463</th>\n",
       "      <td>AYV5MKEX4930Q</td>\n",
       "      <td>1.000000</td>\n",
       "    </tr>\n",
       "    <tr>\n",
       "      <th>464</th>\n",
       "      <td>AZ2NEHE8TNRUW</td>\n",
       "      <td>0.999889</td>\n",
       "    </tr>\n",
       "    <tr>\n",
       "      <th>465</th>\n",
       "      <td>AZ7UGIC7OWVV0</td>\n",
       "      <td>0.991316</td>\n",
       "    </tr>\n",
       "    <tr>\n",
       "      <th>466</th>\n",
       "      <td>AZZ5ENX41WOYZ</td>\n",
       "      <td>1.000000</td>\n",
       "    </tr>\n",
       "    <tr>\n",
       "      <th>467</th>\n",
       "      <td>AZZHB6U54UDYW</td>\n",
       "      <td>0.999888</td>\n",
       "    </tr>\n",
       "  </tbody>\n",
       "</table>\n",
       "<p>467 rows × 2 columns</p>\n",
       "</div>"
      ],
      "text/plain": [
       "           products  pearson_corr\n",
       "1    A112TFLXGBF6NI      0.999890\n",
       "2    A116MBJQU5SC8W      0.999888\n",
       "3    A11L8FAXNCSV44      0.999888\n",
       "4    A11PV74FPA9W9N      0.999888\n",
       "5    A12G40AZ9JW0OL      0.999888\n",
       "..              ...           ...\n",
       "463   AYV5MKEX4930Q      1.000000\n",
       "464   AZ2NEHE8TNRUW      0.999889\n",
       "465   AZ7UGIC7OWVV0      0.991316\n",
       "466   AZZ5ENX41WOYZ      1.000000\n",
       "467   AZZHB6U54UDYW      0.999888\n",
       "\n",
       "[467 rows x 2 columns]"
      ]
     },
     "execution_count": 146,
     "metadata": {},
     "output_type": "execute_result"
    }
   ],
   "source": [
    "recommedation"
   ]
  },
  {
   "cell_type": "code",
   "execution_count": 150,
   "id": "6f3b3f0a",
   "metadata": {},
   "outputs": [
    {
     "data": {
      "text/html": [
       "<div>\n",
       "<style scoped>\n",
       "    .dataframe tbody tr th:only-of-type {\n",
       "        vertical-align: middle;\n",
       "    }\n",
       "\n",
       "    .dataframe tbody tr th {\n",
       "        vertical-align: top;\n",
       "    }\n",
       "\n",
       "    .dataframe thead th {\n",
       "        text-align: right;\n",
       "    }\n",
       "</style>\n",
       "<table border=\"1\" class=\"dataframe\">\n",
       "  <thead>\n",
       "    <tr style=\"text-align: right;\">\n",
       "      <th></th>\n",
       "      <th>products</th>\n",
       "      <th>pearson_corr</th>\n",
       "    </tr>\n",
       "  </thead>\n",
       "  <tbody>\n",
       "    <tr>\n",
       "      <th>106</th>\n",
       "      <td>A1UBXJQ4Y434G1</td>\n",
       "      <td>1.000000</td>\n",
       "    </tr>\n",
       "    <tr>\n",
       "      <th>331</th>\n",
       "      <td>A3PI8OSXZ82Y6X</td>\n",
       "      <td>1.000000</td>\n",
       "    </tr>\n",
       "    <tr>\n",
       "      <th>135</th>\n",
       "      <td>A25UGUXUG0Q0N0</td>\n",
       "      <td>1.000000</td>\n",
       "    </tr>\n",
       "    <tr>\n",
       "      <th>456</th>\n",
       "      <td>AX75ZK92N9IAC</td>\n",
       "      <td>1.000000</td>\n",
       "    </tr>\n",
       "    <tr>\n",
       "      <th>466</th>\n",
       "      <td>AZZ5ENX41WOYZ</td>\n",
       "      <td>1.000000</td>\n",
       "    </tr>\n",
       "    <tr>\n",
       "      <th>...</th>\n",
       "      <td>...</td>\n",
       "      <td>...</td>\n",
       "    </tr>\n",
       "    <tr>\n",
       "      <th>204</th>\n",
       "      <td>A2OIJZN085E27W</td>\n",
       "      <td>0.977138</td>\n",
       "    </tr>\n",
       "    <tr>\n",
       "      <th>79</th>\n",
       "      <td>A1MO7ERE6X74JE</td>\n",
       "      <td>0.977138</td>\n",
       "    </tr>\n",
       "    <tr>\n",
       "      <th>280</th>\n",
       "      <td>A39D8V77QC0MZR</td>\n",
       "      <td>0.977138</td>\n",
       "    </tr>\n",
       "    <tr>\n",
       "      <th>276</th>\n",
       "      <td>A37FQL3TLE9TKT</td>\n",
       "      <td>0.977138</td>\n",
       "    </tr>\n",
       "    <tr>\n",
       "      <th>171</th>\n",
       "      <td>A2HRK5IWDSX4K5</td>\n",
       "      <td>0.965977</td>\n",
       "    </tr>\n",
       "  </tbody>\n",
       "</table>\n",
       "<p>467 rows × 2 columns</p>\n",
       "</div>"
      ],
      "text/plain": [
       "           products  pearson_corr\n",
       "106  A1UBXJQ4Y434G1      1.000000\n",
       "331  A3PI8OSXZ82Y6X      1.000000\n",
       "135  A25UGUXUG0Q0N0      1.000000\n",
       "456   AX75ZK92N9IAC      1.000000\n",
       "466   AZZ5ENX41WOYZ      1.000000\n",
       "..              ...           ...\n",
       "204  A2OIJZN085E27W      0.977138\n",
       "79   A1MO7ERE6X74JE      0.977138\n",
       "280  A39D8V77QC0MZR      0.977138\n",
       "276  A37FQL3TLE9TKT      0.977138\n",
       "171  A2HRK5IWDSX4K5      0.965977\n",
       "\n",
       "[467 rows x 2 columns]"
      ]
     },
     "execution_count": 150,
     "metadata": {},
     "output_type": "execute_result"
    }
   ],
   "source": [
    "recommedation=recommedation.sort_values('pearson_corr',ascending=False)\n",
    "recommedation"
   ]
  },
  {
   "cell_type": "code",
   "execution_count": 148,
   "id": "6153a069",
   "metadata": {},
   "outputs": [
    {
     "data": {
      "text/plain": [
       "106    A1UBXJQ4Y434G1\n",
       "368     A7GWFBC3EBEB1\n",
       "150     A2ALUZZD2V8F4\n",
       "92     A1PTM31HY022YZ\n",
       "418     AMGOM2K7DFTVN\n",
       "65     A1IDEH80N7O1TT\n",
       "120    A1ZR4G95FE1PKS\n",
       "152    A2B3DIT71R4LVM\n",
       "165    A2FBT3BI4A8WZM\n",
       "286    A3AVDVWIZO4OKE\n",
       "Name: products, dtype: object"
      ]
     },
     "execution_count": 148,
     "metadata": {},
     "output_type": "execute_result"
    }
   ],
   "source": [
    "recommedation[\"products\"].head(10)"
   ]
  },
  {
   "cell_type": "markdown",
   "id": "96b76698",
   "metadata": {},
   "source": [
    "# Creating function"
   ]
  },
  {
   "cell_type": "code",
   "execution_count": 163,
   "id": "303dabe5",
   "metadata": {},
   "outputs": [],
   "source": [
    "def product_recommend(product):\n",
    "    val=product\n",
    "    ind=prod_names.index(val)\n",
    "    correlation_product = correlation_pear[ind]\n",
    "    print(ind,product)\n",
    "    recommedation=[]\n",
    "    recommedation=pd.DataFrame(recommedation)\n",
    "    recommedation[\"products\"]=X.index[correlation_product>0.95]\n",
    "    recommedation[\"pearson_corr\"]=correlation_product[correlation_product>0.95]\n",
    "    ind_rec=recommedation[recommedation[\"products\"]==product].index[0]\n",
    "    recommedation=recommedation.drop(ind_rec)\n",
    "    recommedation=recommedation.sort_values('pearson_corr',ascending=False)\n",
    "    \n",
    "    return(recommedation.head(10))\n",
    "\n"
   ]
  },
  {
   "cell_type": "code",
   "execution_count": 164,
   "id": "c856ca37",
   "metadata": {},
   "outputs": [
    {
     "name": "stdout",
     "output_type": "stream",
     "text": [
      "115 A10Y5QN4DDL33A\n"
     ]
    },
    {
     "data": {
      "text/html": [
       "<div>\n",
       "<style scoped>\n",
       "    .dataframe tbody tr th:only-of-type {\n",
       "        vertical-align: middle;\n",
       "    }\n",
       "\n",
       "    .dataframe tbody tr th {\n",
       "        vertical-align: top;\n",
       "    }\n",
       "\n",
       "    .dataframe thead th {\n",
       "        text-align: right;\n",
       "    }\n",
       "</style>\n",
       "<table border=\"1\" class=\"dataframe\">\n",
       "  <thead>\n",
       "    <tr style=\"text-align: right;\">\n",
       "      <th></th>\n",
       "      <th>products</th>\n",
       "      <th>pearson_corr</th>\n",
       "    </tr>\n",
       "  </thead>\n",
       "  <tbody>\n",
       "    <tr>\n",
       "      <th>292</th>\n",
       "      <td>A3CQ3FOM5APBRA</td>\n",
       "      <td>1.0</td>\n",
       "    </tr>\n",
       "    <tr>\n",
       "      <th>376</th>\n",
       "      <td>A9KRD46772V9L</td>\n",
       "      <td>1.0</td>\n",
       "    </tr>\n",
       "    <tr>\n",
       "      <th>312</th>\n",
       "      <td>A3JEP6B24WNBDX</td>\n",
       "      <td>1.0</td>\n",
       "    </tr>\n",
       "    <tr>\n",
       "      <th>331</th>\n",
       "      <td>A3PI8OSXZ82Y6X</td>\n",
       "      <td>1.0</td>\n",
       "    </tr>\n",
       "    <tr>\n",
       "      <th>50</th>\n",
       "      <td>A1FP2TF9CH5ISH</td>\n",
       "      <td>1.0</td>\n",
       "    </tr>\n",
       "    <tr>\n",
       "      <th>430</th>\n",
       "      <td>AR0EX4KO0V21R</td>\n",
       "      <td>1.0</td>\n",
       "    </tr>\n",
       "    <tr>\n",
       "      <th>363</th>\n",
       "      <td>A69ZX7310T8KY</td>\n",
       "      <td>1.0</td>\n",
       "    </tr>\n",
       "    <tr>\n",
       "      <th>286</th>\n",
       "      <td>A3AVDVWIZO4OKE</td>\n",
       "      <td>1.0</td>\n",
       "    </tr>\n",
       "    <tr>\n",
       "      <th>19</th>\n",
       "      <td>A164UKBIPD05NJ</td>\n",
       "      <td>1.0</td>\n",
       "    </tr>\n",
       "    <tr>\n",
       "      <th>65</th>\n",
       "      <td>A1IDEH80N7O1TT</td>\n",
       "      <td>1.0</td>\n",
       "    </tr>\n",
       "  </tbody>\n",
       "</table>\n",
       "</div>"
      ],
      "text/plain": [
       "           products  pearson_corr\n",
       "292  A3CQ3FOM5APBRA           1.0\n",
       "376   A9KRD46772V9L           1.0\n",
       "312  A3JEP6B24WNBDX           1.0\n",
       "331  A3PI8OSXZ82Y6X           1.0\n",
       "50   A1FP2TF9CH5ISH           1.0\n",
       "430   AR0EX4KO0V21R           1.0\n",
       "363   A69ZX7310T8KY           1.0\n",
       "286  A3AVDVWIZO4OKE           1.0\n",
       "19   A164UKBIPD05NJ           1.0\n",
       "65   A1IDEH80N7O1TT           1.0"
      ]
     },
     "execution_count": 164,
     "metadata": {},
     "output_type": "execute_result"
    }
   ],
   "source": [
    "product_recommend(\"A10Y5QN4DDL33A\")"
   ]
  },
  {
   "cell_type": "code",
   "execution_count": null,
   "id": "48cdb210",
   "metadata": {},
   "outputs": [],
   "source": []
  }
 ],
 "metadata": {
  "kernelspec": {
   "display_name": "Python 3 (ipykernel)",
   "language": "python",
   "name": "python3"
  },
  "language_info": {
   "codemirror_mode": {
    "name": "ipython",
    "version": 3
   },
   "file_extension": ".py",
   "mimetype": "text/x-python",
   "name": "python",
   "nbconvert_exporter": "python",
   "pygments_lexer": "ipython3",
   "version": "3.9.12"
  }
 },
 "nbformat": 4,
 "nbformat_minor": 5
}
