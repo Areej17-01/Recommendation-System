{
 "cells": [
  {
   "cell_type": "code",
   "execution_count": 93,
   "id": "e05d96be",
   "metadata": {},
   "outputs": [],
   "source": [
    "import numpy as np\n",
    "import pandas as pd\n",
    "import matplotlib.pyplot as plt\n",
    "import seaborn as sns\n",
    "sns.set()"
   ]
  },
  {
   "cell_type": "code",
   "execution_count": 94,
   "id": "f091fa69",
   "metadata": {},
   "outputs": [],
   "source": [
    "df=pd.read_excel(\"Superstore_USA.xlsx\")"
   ]
  },
  {
   "cell_type": "code",
   "execution_count": 95,
   "id": "e6af425f",
   "metadata": {},
   "outputs": [],
   "source": [
    "data=df.copy()"
   ]
  },
  {
   "cell_type": "markdown",
   "id": "3d0c40fd",
   "metadata": {},
   "source": [
    "###### since the data did'nt had description column i worked on the product name"
   ]
  },
  {
   "cell_type": "markdown",
   "id": "31371e1b",
   "metadata": {},
   "source": [
    "# CASE2:"
   ]
  },
  {
   "cell_type": "code",
   "execution_count": 5,
   "id": "2b279308",
   "metadata": {},
   "outputs": [
    {
     "data": {
      "text/html": [
       "<div>\n",
       "<style scoped>\n",
       "    .dataframe tbody tr th:only-of-type {\n",
       "        vertical-align: middle;\n",
       "    }\n",
       "\n",
       "    .dataframe tbody tr th {\n",
       "        vertical-align: top;\n",
       "    }\n",
       "\n",
       "    .dataframe thead th {\n",
       "        text-align: right;\n",
       "    }\n",
       "</style>\n",
       "<table border=\"1\" class=\"dataframe\">\n",
       "  <thead>\n",
       "    <tr style=\"text-align: right;\">\n",
       "      <th></th>\n",
       "      <th>Row ID</th>\n",
       "      <th>Order Priority</th>\n",
       "      <th>Discount</th>\n",
       "      <th>Unit Price</th>\n",
       "      <th>Shipping Cost</th>\n",
       "      <th>Customer ID</th>\n",
       "      <th>Customer Name</th>\n",
       "      <th>Ship Mode</th>\n",
       "      <th>Customer Segment</th>\n",
       "      <th>Product Category</th>\n",
       "      <th>...</th>\n",
       "      <th>Region</th>\n",
       "      <th>State or Province</th>\n",
       "      <th>City</th>\n",
       "      <th>Postal Code</th>\n",
       "      <th>Order Date</th>\n",
       "      <th>Ship Date</th>\n",
       "      <th>Profit</th>\n",
       "      <th>Quantity ordered new</th>\n",
       "      <th>Sales</th>\n",
       "      <th>Order ID</th>\n",
       "    </tr>\n",
       "  </thead>\n",
       "  <tbody>\n",
       "    <tr>\n",
       "      <th>0</th>\n",
       "      <td>18606</td>\n",
       "      <td>Not Specified</td>\n",
       "      <td>0.01</td>\n",
       "      <td>2.88</td>\n",
       "      <td>0.50</td>\n",
       "      <td>2</td>\n",
       "      <td>Janice Fletcher</td>\n",
       "      <td>Regular Air</td>\n",
       "      <td>Corporate</td>\n",
       "      <td>Office Supplies</td>\n",
       "      <td>...</td>\n",
       "      <td>Central</td>\n",
       "      <td>Illinois</td>\n",
       "      <td>Addison</td>\n",
       "      <td>60101</td>\n",
       "      <td>2012-05-28</td>\n",
       "      <td>2012-05-30</td>\n",
       "      <td>1.3200</td>\n",
       "      <td>2</td>\n",
       "      <td>5.90</td>\n",
       "      <td>88525</td>\n",
       "    </tr>\n",
       "    <tr>\n",
       "      <th>1</th>\n",
       "      <td>20847</td>\n",
       "      <td>High</td>\n",
       "      <td>0.01</td>\n",
       "      <td>2.84</td>\n",
       "      <td>0.93</td>\n",
       "      <td>3</td>\n",
       "      <td>Bonnie Potter</td>\n",
       "      <td>Express Air</td>\n",
       "      <td>Corporate</td>\n",
       "      <td>Office Supplies</td>\n",
       "      <td>...</td>\n",
       "      <td>West</td>\n",
       "      <td>Washington</td>\n",
       "      <td>Anacortes</td>\n",
       "      <td>98221</td>\n",
       "      <td>2010-07-07</td>\n",
       "      <td>2010-07-08</td>\n",
       "      <td>4.5600</td>\n",
       "      <td>4</td>\n",
       "      <td>13.01</td>\n",
       "      <td>88522</td>\n",
       "    </tr>\n",
       "    <tr>\n",
       "      <th>2</th>\n",
       "      <td>23086</td>\n",
       "      <td>Not Specified</td>\n",
       "      <td>0.03</td>\n",
       "      <td>6.68</td>\n",
       "      <td>6.15</td>\n",
       "      <td>3</td>\n",
       "      <td>Bonnie Potter</td>\n",
       "      <td>Express Air</td>\n",
       "      <td>Corporate</td>\n",
       "      <td>Office Supplies</td>\n",
       "      <td>...</td>\n",
       "      <td>West</td>\n",
       "      <td>Washington</td>\n",
       "      <td>Anacortes</td>\n",
       "      <td>98221</td>\n",
       "      <td>2011-07-27</td>\n",
       "      <td>2011-07-28</td>\n",
       "      <td>-47.6400</td>\n",
       "      <td>7</td>\n",
       "      <td>49.92</td>\n",
       "      <td>88523</td>\n",
       "    </tr>\n",
       "    <tr>\n",
       "      <th>3</th>\n",
       "      <td>23087</td>\n",
       "      <td>Not Specified</td>\n",
       "      <td>0.01</td>\n",
       "      <td>5.68</td>\n",
       "      <td>3.60</td>\n",
       "      <td>3</td>\n",
       "      <td>Bonnie Potter</td>\n",
       "      <td>Regular Air</td>\n",
       "      <td>Corporate</td>\n",
       "      <td>Office Supplies</td>\n",
       "      <td>...</td>\n",
       "      <td>West</td>\n",
       "      <td>Washington</td>\n",
       "      <td>Anacortes</td>\n",
       "      <td>98221</td>\n",
       "      <td>2011-07-27</td>\n",
       "      <td>2011-07-28</td>\n",
       "      <td>-30.5100</td>\n",
       "      <td>7</td>\n",
       "      <td>41.64</td>\n",
       "      <td>88523</td>\n",
       "    </tr>\n",
       "    <tr>\n",
       "      <th>4</th>\n",
       "      <td>23088</td>\n",
       "      <td>Not Specified</td>\n",
       "      <td>0.00</td>\n",
       "      <td>205.99</td>\n",
       "      <td>2.50</td>\n",
       "      <td>3</td>\n",
       "      <td>Bonnie Potter</td>\n",
       "      <td>Express Air</td>\n",
       "      <td>Corporate</td>\n",
       "      <td>Technology</td>\n",
       "      <td>...</td>\n",
       "      <td>West</td>\n",
       "      <td>Washington</td>\n",
       "      <td>Anacortes</td>\n",
       "      <td>98221</td>\n",
       "      <td>2011-07-27</td>\n",
       "      <td>2011-07-27</td>\n",
       "      <td>998.2023</td>\n",
       "      <td>8</td>\n",
       "      <td>1446.67</td>\n",
       "      <td>88523</td>\n",
       "    </tr>\n",
       "  </tbody>\n",
       "</table>\n",
       "<p>5 rows × 24 columns</p>\n",
       "</div>"
      ],
      "text/plain": [
       "   Row ID Order Priority  Discount  Unit Price  Shipping Cost  Customer ID  \\\n",
       "0   18606  Not Specified      0.01        2.88           0.50            2   \n",
       "1   20847           High      0.01        2.84           0.93            3   \n",
       "2   23086  Not Specified      0.03        6.68           6.15            3   \n",
       "3   23087  Not Specified      0.01        5.68           3.60            3   \n",
       "4   23088  Not Specified      0.00      205.99           2.50            3   \n",
       "\n",
       "     Customer Name    Ship Mode Customer Segment Product Category  ...  \\\n",
       "0  Janice Fletcher  Regular Air        Corporate  Office Supplies  ...   \n",
       "1    Bonnie Potter  Express Air        Corporate  Office Supplies  ...   \n",
       "2    Bonnie Potter  Express Air        Corporate  Office Supplies  ...   \n",
       "3    Bonnie Potter  Regular Air        Corporate  Office Supplies  ...   \n",
       "4    Bonnie Potter  Express Air        Corporate       Technology  ...   \n",
       "\n",
       "    Region State or Province       City  Postal Code Order Date  Ship Date  \\\n",
       "0  Central          Illinois    Addison        60101 2012-05-28 2012-05-30   \n",
       "1     West        Washington  Anacortes        98221 2010-07-07 2010-07-08   \n",
       "2     West        Washington  Anacortes        98221 2011-07-27 2011-07-28   \n",
       "3     West        Washington  Anacortes        98221 2011-07-27 2011-07-28   \n",
       "4     West        Washington  Anacortes        98221 2011-07-27 2011-07-27   \n",
       "\n",
       "     Profit  Quantity ordered new    Sales Order ID  \n",
       "0    1.3200                     2     5.90    88525  \n",
       "1    4.5600                     4    13.01    88522  \n",
       "2  -47.6400                     7    49.92    88523  \n",
       "3  -30.5100                     7    41.64    88523  \n",
       "4  998.2023                     8  1446.67    88523  \n",
       "\n",
       "[5 rows x 24 columns]"
      ]
     },
     "execution_count": 5,
     "metadata": {},
     "output_type": "execute_result"
    }
   ],
   "source": [
    "df.head()"
   ]
  },
  {
   "cell_type": "code",
   "execution_count": 6,
   "id": "86371f57",
   "metadata": {},
   "outputs": [],
   "source": [
    "from sklearn.feature_extraction.text import TfidfVectorizer, CountVectorizer\n",
    "from sklearn.neighbors import NearestNeighbors\n",
    "from sklearn.cluster import KMeans\n",
    "from sklearn.metrics import adjusted_rand_score"
   ]
  },
  {
   "cell_type": "code",
   "execution_count": 7,
   "id": "57df2f38",
   "metadata": {},
   "outputs": [
    {
     "data": {
      "text/plain": [
       "Index(['Row ID', 'Order Priority', 'Discount', 'Unit Price', 'Shipping Cost',\n",
       "       'Customer ID', 'Customer Name', 'Ship Mode', 'Customer Segment',\n",
       "       'Product Category', 'Product Sub-Category', 'Product Container',\n",
       "       'Product Name', 'Product Base Margin', 'Region', 'State or Province',\n",
       "       'City', 'Postal Code', 'Order Date', 'Ship Date', 'Profit',\n",
       "       'Quantity ordered new', 'Sales', 'Order ID'],\n",
       "      dtype='object')"
      ]
     },
     "execution_count": 7,
     "metadata": {},
     "output_type": "execute_result"
    }
   ],
   "source": [
    "df.columns"
   ]
  },
  {
   "cell_type": "code",
   "execution_count": 8,
   "id": "413887ce",
   "metadata": {},
   "outputs": [],
   "source": [
    "df['Product Name'] =df['Product Name'].str.lower()"
   ]
  },
  {
   "cell_type": "code",
   "execution_count": 9,
   "id": "95e9f72c",
   "metadata": {},
   "outputs": [
    {
     "data": {
      "text/plain": [
       "0                                                avery 49\n",
       "1          sanford liquid accent™ tank-style highlighters\n",
       "2                                              xerox 1968\n",
       "3                acme® preferred stainless steel scissors\n",
       "4                                                     v70\n",
       "                              ...                        \n",
       "9421        jet-pak recycled peel 'n' seal padded mailers\n",
       "9422         eldon spacemaker® box, quick-snap lid, clear\n",
       "9423    chromcraft bull-nose wood oval conference tabl...\n",
       "9424    tenex 46\" x 60\" computer anti-static chairmat,...\n",
       "9425                        staples #10 colored envelopes\n",
       "Name: Product Name, Length: 9426, dtype: object"
      ]
     },
     "execution_count": 9,
     "metadata": {},
     "output_type": "execute_result"
    }
   ],
   "source": [
    "df['Product Name']"
   ]
  },
  {
   "cell_type": "code",
   "execution_count": 10,
   "id": "cf2ed6ef",
   "metadata": {},
   "outputs": [
    {
     "name": "stderr",
     "output_type": "stream",
     "text": [
      "[nltk_data] Downloading package stopwords to C:\\Users\\Taha\n",
      "[nltk_data]     PC\\AppData\\Roaming\\nltk_data...\n",
      "[nltk_data]   Package stopwords is already up-to-date!\n"
     ]
    },
    {
     "data": {
      "text/plain": [
       "True"
      ]
     },
     "execution_count": 10,
     "metadata": {},
     "output_type": "execute_result"
    }
   ],
   "source": [
    "import nltk\n",
    "nltk.download('stopwords')"
   ]
  },
  {
   "cell_type": "code",
   "execution_count": 11,
   "id": "15a56eba",
   "metadata": {},
   "outputs": [],
   "source": [
    "from nltk.corpus import stopwords\n",
    "from nltk.stem.porter import PorterStemmer\n",
    "#stopwords.words('english')"
   ]
  },
  {
   "cell_type": "code",
   "execution_count": 12,
   "id": "b36c10da",
   "metadata": {},
   "outputs": [],
   "source": [
    "port_stem = PorterStemmer()\n",
    "import re"
   ]
  },
  {
   "cell_type": "code",
   "execution_count": 13,
   "id": "19b200e8",
   "metadata": {},
   "outputs": [],
   "source": [
    "def stemming(content):\n",
    "    stemmed_content = re.sub('[^a-zA-Z]',' ',content)\n",
    "    stemmed_content = stemmed_content.lower()\n",
    "    stemmed_content = stemmed_content.split()\n",
    "    stemmed_content = [port_stem.stem(word) for word in stemmed_content if not word in stopwords.words('english')]\n",
    "    stemmed_content = ' '.join(stemmed_content)\n",
    "    return stemmed_content"
   ]
  },
  {
   "cell_type": "code",
   "execution_count": 14,
   "id": "49bb4076",
   "metadata": {},
   "outputs": [],
   "source": [
    "df['Product Name'] = df['Product Name'].apply(stemming)"
   ]
  },
  {
   "cell_type": "code",
   "execution_count": 15,
   "id": "b1279594",
   "metadata": {},
   "outputs": [
    {
     "data": {
      "text/plain": [
       "0                                                   averi\n",
       "1              sanford liquid accent tank style highlight\n",
       "2                                                   xerox\n",
       "3                      acm prefer stainless steel scissor\n",
       "4                                                       v\n",
       "                              ...                        \n",
       "9421                jet pak recycl peel n seal pad mailer\n",
       "9422              eldon spacemak box quick snap lid clear\n",
       "9423      chromcraft bull nose wood oval confer tabl base\n",
       "9424    tenex x comput anti static chairmat rectangula...\n",
       "9425                                  stapl color envelop\n",
       "Name: Product Name, Length: 9426, dtype: object"
      ]
     },
     "execution_count": 15,
     "metadata": {},
     "output_type": "execute_result"
    }
   ],
   "source": [
    "df['Product Name']"
   ]
  },
  {
   "cell_type": "code",
   "execution_count": 16,
   "id": "5a80be0e",
   "metadata": {},
   "outputs": [],
   "source": [
    "dataset=[]\n",
    "dataset=pd.DataFrame(dataset)\n",
    "dataset[\"Product Name\"]=data[\"Product Name\"]\n",
    "dataset[\"Product Name shortened\"]=df['Product Name']"
   ]
  },
  {
   "cell_type": "code",
   "execution_count": 17,
   "id": "c520100a",
   "metadata": {},
   "outputs": [],
   "source": [
    "word_list=df[\"Product Name\"].str.split(\" \")"
   ]
  },
  {
   "cell_type": "code",
   "execution_count": 18,
   "id": "03870da3",
   "metadata": {},
   "outputs": [],
   "source": [
    "words=[]\n",
    "for i in word_list:\n",
    "    for j in i:\n",
    "        words.append(j)"
   ]
  },
  {
   "cell_type": "code",
   "execution_count": 19,
   "id": "9409fa26",
   "metadata": {},
   "outputs": [],
   "source": [
    "item2=dataset[dataset[\"Product Name shortened\"]==\"sanford liquid accent tank style highlight\"][:1][\"Product Name shortened\"].values.tolist()"
   ]
  },
  {
   "cell_type": "code",
   "execution_count": 20,
   "id": "38e343cb",
   "metadata": {},
   "outputs": [
    {
     "data": {
      "text/plain": [
       "['sanford liquid accent tank style highlight']"
      ]
     },
     "execution_count": 20,
     "metadata": {},
     "output_type": "execute_result"
    }
   ],
   "source": [
    "item2"
   ]
  },
  {
   "cell_type": "code",
   "execution_count": 21,
   "id": "f9776a06",
   "metadata": {},
   "outputs": [],
   "source": [
    "dict={}\n",
    "splited=item2[0].split()\n",
    "for j in dataset[\"Product Name shortened\"]: \n",
    "    counter=0\n",
    "    thing=j.split()\n",
    "    if item2[0]!=j:\n",
    "        for i in splited:\n",
    "            if i in thing:\n",
    "                counter+=1\n",
    "                \n",
    "        dict[j]=counter\n"
   ]
  },
  {
   "cell_type": "code",
   "execution_count": 41,
   "id": "6463ec6a",
   "metadata": {},
   "outputs": [],
   "source": [
    "#dict"
   ]
  },
  {
   "cell_type": "markdown",
   "id": "b6f2401a",
   "metadata": {},
   "source": [
    "## recommendation system"
   ]
  },
  {
   "cell_type": "code",
   "execution_count": 48,
   "id": "c672001f",
   "metadata": {},
   "outputs": [],
   "source": [
    "def recommendation(product_name):\n",
    "    item2=dataset[dataset[\"Product Name\"]==product_name ][\"Product Name shortened\"][:1].values.tolist()\n",
    "    dict={}\n",
    "    splited=item2[0].split()\n",
    "    for j,k in zip(dataset[\"Product Name shortened\"],dataset[\"Product Name\"]): \n",
    "        counter=0\n",
    "        thing=j.split()\n",
    "        if item2[0]!=j:\n",
    "            for i in splited:\n",
    "                if i in thing:\n",
    "                    counter+=1\n",
    "            if counter !=0:\n",
    "                dict[k]=counter\n",
    "    value= {k: v for k, v in sorted(dict.items(), key=lambda item: item[1],reverse=True)}\n",
    "    return(value.keys())"
   ]
  },
  {
   "cell_type": "code",
   "execution_count": 52,
   "id": "47d1ad82",
   "metadata": {},
   "outputs": [
    {
     "data": {
      "text/plain": [
       "dict_keys(['Sanford Liquid Accent Highlighters', 'SANFORD Major Accent™ Highlighters', 'Sanford Pocket Accent® Highlighters', '4009® Highlighters by Sanford', 'Staples Pen Style Liquid Stix; Assorted (yellow, pink, green, blue, orange), 5/Pack', 'Avery Hi-Liter® EverBold™ Pen Style Fluorescent Highlighters, 4/Pack', 'Sanford Uni-Blazer™ View Highlighters, Chisel Tip, Yellow', '*Staples* Highlighting Markers', 'DMI Arturo Collection Mission-style Design Wood Chair', 'Avery Hi-Liter Pen Style Six-Color Fluorescent Set', 'Zebra Zazzle Fluorescent Highlighters', 'Sanford 52201 APSCO Electric Pencil Sharpener', 'Avery Hi-Liter® Smear-Safe Highlighters', 'Avery Hi-Liter GlideStik Fluorescent Highlighter, Yellow Ink', 'Sanford Colorific Colored Pencils, 12/Box', 'Tensor \"Hersey Kiss\" Styled Floor Lamp', 'Sanford EarthWrite® Recycled Pencils, Medium Soft, #2', 'Avery Hi-Liter® Fluorescent Desk Style Markers', 'Avery Binding System Hidden Tab™ Executive Style Index Sets', 'Avery Hi-Liter Comfort Grip Fluorescent Highlighter, Yellow Ink', 'Ibico Recycled Linen-Style Covers', 'Binney & Smith inkTank™ Erasable Desk Highlighter, Chisel Tip, Yellow, 12/Box', 'Fluorescent Highlighters by Dixon', 'Sanford Colorific® Eraseable Coloring Pencils, 12 Count', 'Sanford Prismacolor® Professional Thick Lead Art Pencils, 36-Color Set', 'Binney & Smith inkTank™ Erasable Pocket Highlighter, Chisel Tip, Yellow'])"
      ]
     },
     "execution_count": 52,
     "metadata": {},
     "output_type": "execute_result"
    }
   ],
   "source": [
    "recommendation(\"SANFORD Liquid Accent™ Tank-Style Highlighters\") "
   ]
  },
  {
   "cell_type": "code",
   "execution_count": 25,
   "id": "044fd80c",
   "metadata": {},
   "outputs": [
    {
     "data": {
      "text/plain": [
       "{'Telescoping Adjustable Floor Lamp': 2,\n",
       " 'Westinghouse Floor Lamp with Metal Mesh Shade, Black': 2,\n",
       " 'Tensor Computer Mounted Lamp': 2,\n",
       " 'SANFORD Liquid Accent™ Tank-Style Highlighters': 1,\n",
       " 'DMI Arturo Collection Mission-style Design Wood Chair': 1,\n",
       " 'Avery Hi-Liter Pen Style Six-Color Fluorescent Set': 1,\n",
       " 'Dana Halogen Swing-Arm Architect Lamp': 1,\n",
       " '3M Polarizing Task Lamp with Clamp Arm, Light Gray': 1,\n",
       " 'Luxo Professional Combination Clamp-On Lamps': 1,\n",
       " 'Luxo Economy Swing Arm Lamp': 1,\n",
       " \"Electrix Architect's Clamp-On Swing Arm Lamp, Black\": 1,\n",
       " 'Hot File® 7-Pocket, Floor Stand': 1,\n",
       " 'Luxo Professional Fluorescent Magnifier Lamp with Clamp-Mount Base': 1,\n",
       " 'G.E. Halogen Desk Lamp Bulbs': 1,\n",
       " 'Westinghouse Clip-On Gooseneck Lamps': 1,\n",
       " 'Electrix 20W Halogen Replacement Bulb for Zoom-In Desk Lamp': 1,\n",
       " 'Avery Hi-Liter® Fluorescent Desk Style Markers': 1,\n",
       " 'Staples Pen Style Liquid Stix; Assorted (yellow, pink, green, blue, orange), 5/Pack': 1,\n",
       " 'Avery Binding System Hidden Tab™ Executive Style Index Sets': 1,\n",
       " 'Electrix Fluorescent Magnifier Lamps & Weighted Base': 1,\n",
       " 'Dana Fluorescent Magnifying Lamp, White, 36\"': 1,\n",
       " 'Electrix Incandescent Magnifying Lamp, Black': 1,\n",
       " 'Ibico Recycled Linen-Style Covers': 1,\n",
       " 'Electrix Halogen Magnifier Lamp': 1,\n",
       " 'Dana Swing-Arm Lamps': 1,\n",
       " 'Luxo Adjustable Task Clamp Lamp': 1,\n",
       " 'Avery Hi-Liter® EverBold™ Pen Style Fluorescent Highlighters, 4/Pack': 1}"
      ]
     },
     "execution_count": 25,
     "metadata": {},
     "output_type": "execute_result"
    }
   ],
   "source": [
    "recommendation('Tensor \"Hersey Kiss\" Styled Floor Lamp')"
   ]
  },
  {
   "cell_type": "code",
   "execution_count": 26,
   "id": "0ba58a3f",
   "metadata": {},
   "outputs": [
    {
     "data": {
      "text/plain": [
       "{\"Electrix Architect's Clamp-On Swing Arm Lamp, Black\": 3,\n",
       " 'Luxo Adjustable Task Clamp Lamp': 3,\n",
       " 'Dana Halogen Swing-Arm Architect Lamp': 2,\n",
       " '3M Polarizing Light Filter Sleeves': 2,\n",
       " 'Office Star - Contemporary Task Swivel chair with 2-way adjustable arms, Plum': 2,\n",
       " 'Luxo Professional Combination Clamp-On Lamps': 2,\n",
       " 'Luxo Economy Swing Arm Lamp': 2,\n",
       " 'Luxo Professional Fluorescent Magnifier Lamp with Clamp-Mount Base': 2,\n",
       " 'Office Star - Task Chair with Contemporary Loop Arms': 2,\n",
       " 'Hon 4700 Series Mobuis™ Mid-Back Task Chairs with Adjustable Arms': 2,\n",
       " 'Dana Swing-Arm Lamps': 2,\n",
       " 'Tyvek ® Top-Opening Peel & Seel ® Envelopes, Gray': 1,\n",
       " 'Fellowes Twister Kit, Gray/Clear, 3/pkg': 1,\n",
       " 'Novimex High-Tech Fabric Mesh Task Chair': 1,\n",
       " 'Global Leather Task Chair, Black': 1,\n",
       " 'Telescoping Adjustable Floor Lamp': 1,\n",
       " 'Office Star - Ergonomic Mid Back Chair with 2-Way Adjustable Arms': 1,\n",
       " 'Office Star - Mid Back Dual function Ergonomic High Back Chair with 2-Way Adjustable Arms': 1,\n",
       " 'Tennsco Lockers, Gray': 1,\n",
       " 'Tenex Personal Self-Stacking Standard File Box, Black/Gray': 1,\n",
       " 'SAFCO Optional Arm Kit for Workspace® Cribbage Stacking Chair': 1,\n",
       " 'Novimex Fabric Task Chair': 1,\n",
       " 'Hon Comfortask® Task/Swivel Chairs': 1,\n",
       " 'Novimex Turbo Task Chair': 1,\n",
       " 'Global Stack Chair without Arms, Black': 1,\n",
       " 'Hon Multipurpose Stacking Arm Chairs': 1,\n",
       " 'Pressboard Covers with Storage Hooks, 9 1/2\" x 11\", Light Blue': 1,\n",
       " 'Micro Innovations Micro Digital Wireless Keyboard and Mouse, Gray': 1,\n",
       " 'Tensor \"Hersey Kiss\" Styled Floor Lamp': 1,\n",
       " 'Boston Model 1800 Electric Pencil Sharpener, Gray': 1,\n",
       " 'G.E. Halogen Desk Lamp Bulbs': 1,\n",
       " 'Westinghouse Clip-On Gooseneck Lamps': 1,\n",
       " 'Bretford “Just In Time” Height-Adjustable Multi-Task Work Tables': 1,\n",
       " 'Master Caster Door Stop, Gray': 1,\n",
       " 'Electrix 20W Halogen Replacement Bulb for Zoom-In Desk Lamp': 1,\n",
       " 'Hon Every-Day® Chair Series Swivel Task Chairs': 1,\n",
       " 'Westinghouse Floor Lamp with Metal Mesh Shade, Black': 1,\n",
       " 'Novimex Swivel Fabric Task Chair': 1,\n",
       " 'Electrix Fluorescent Magnifier Lamps & Weighted Base': 1,\n",
       " 'Dana Fluorescent Magnifying Lamp, White, 36\"': 1,\n",
       " 'Global Deluxe Stacking Chair, Gray': 1,\n",
       " 'Tensor Computer Mounted Lamp': 1,\n",
       " 'Electrix Incandescent Magnifying Lamp, Black': 1,\n",
       " 'Electrix Halogen Magnifier Lamp': 1,\n",
       " 'Acco Pressboard Covers with Storage Hooks, 14 7/8\" x 11\", Light Blue': 1}"
      ]
     },
     "execution_count": 26,
     "metadata": {},
     "output_type": "execute_result"
    }
   ],
   "source": [
    "recommendation('3M Polarizing Task Lamp with Clamp Arm, Light Gray')"
   ]
  },
  {
   "cell_type": "markdown",
   "id": "a40bfdc7",
   "metadata": {},
   "source": [
    "## CLUSTERING"
   ]
  },
  {
   "cell_type": "code",
   "execution_count": 96,
   "id": "a7f340c1",
   "metadata": {},
   "outputs": [],
   "source": [
    "from sklearn.feature_extraction.text import TfidfVectorizer, CountVectorizer\n",
    "from sklearn.neighbors import NearestNeighbors\n",
    "from sklearn.cluster import KMeans\n",
    "from sklearn.metrics import adjusted_rand_score"
   ]
  },
  {
   "cell_type": "code",
   "execution_count": 97,
   "id": "5a2ccae8",
   "metadata": {},
   "outputs": [],
   "source": [
    "df=data.copy()"
   ]
  },
  {
   "cell_type": "code",
   "execution_count": 99,
   "id": "6399731c",
   "metadata": {},
   "outputs": [],
   "source": [
    "product_descriptions1 = df[\"Product Name\"]"
   ]
  },
  {
   "cell_type": "code",
   "execution_count": 101,
   "id": "29209fc5",
   "metadata": {},
   "outputs": [
    {
     "data": {
      "text/plain": [
       "0                                          Avery 49\n",
       "1    SANFORD Liquid Accent™ Tank-Style Highlighters\n",
       "2                                        Xerox 1968\n",
       "3          Acme® Preferred Stainless Steel Scissors\n",
       "4                                               V70\n",
       "Name: Product Name, dtype: object"
      ]
     },
     "execution_count": 101,
     "metadata": {},
     "output_type": "execute_result"
    }
   ],
   "source": [
    "product_descriptions1"
   ]
  },
  {
   "cell_type": "code",
   "execution_count": 100,
   "id": "617a7a57",
   "metadata": {},
   "outputs": [
    {
     "name": "stdout",
     "output_type": "stream",
     "text": [
      "  (0, 1)\t0.7071067811865475\n",
      "  (0, 4)\t0.7071067811865475\n",
      "  (1, 5)\t0.40824829046386296\n",
      "  (1, 12)\t0.40824829046386296\n",
      "  (1, 13)\t0.40824829046386296\n",
      "  (1, 2)\t0.40824829046386296\n",
      "  (1, 6)\t0.40824829046386296\n",
      "  (1, 8)\t0.40824829046386296\n",
      "  (2, 0)\t0.7071067811865475\n",
      "  (2, 15)\t0.7071067811865475\n",
      "  (3, 9)\t0.4472135954999579\n",
      "  (3, 11)\t0.4472135954999579\n",
      "  (3, 10)\t0.4472135954999579\n",
      "  (3, 7)\t0.4472135954999579\n",
      "  (3, 3)\t0.4472135954999579\n",
      "  (4, 14)\t1.0\n"
     ]
    }
   ],
   "source": [
    "vectorizer = TfidfVectorizer(stop_words='english')\n",
    "X1 = vectorizer.fit_transform(product_descriptions1)\n",
    "print(X1)"
   ]
  },
  {
   "cell_type": "code",
   "execution_count": 8,
   "id": "0c42eb9d",
   "metadata": {},
   "outputs": [
    {
     "data": {
      "image/png": "[encoded data removed]",
      "text/plain": [
       "<Figure size 432x288 with 1 Axes>"
      ]
     },
     "metadata": {},
     "output_type": "display_data"
    }
   ],
   "source": [
    "X=X1\n",
    "\n",
    "kmeans = KMeans(n_clusters = 10, init = 'k-means++')\n",
    "y_kmeans = kmeans.fit_predict(X)\n",
    "plt.plot(y_kmeans, \".\")\n",
    "plt.show()"
   ]
  },
  {
   "cell_type": "code",
   "execution_count": 9,
   "id": "01528ce6",
   "metadata": {},
   "outputs": [
    {
     "data": {
      "text/plain": [
       "KMeans(n_clusters=10)"
      ]
     },
     "execution_count": 9,
     "metadata": {},
     "output_type": "execute_result"
    }
   ],
   "source": [
    "kmeans"
   ]
  },
  {
   "cell_type": "code",
   "execution_count": 10,
   "id": "2887eb3d",
   "metadata": {},
   "outputs": [],
   "source": [
    "def print_cluster(i):\n",
    "    print(\"Cluster %d:\" % i),\n",
    "    for ind in order_centroids[i, :10]:\n",
    "        print(' %s' % terms[ind]),\n",
    "    print"
   ]
  },
  {
   "cell_type": "code",
   "execution_count": 11,
   "id": "9f2edfef",
   "metadata": {},
   "outputs": [],
   "source": [
    "#order_centroids"
   ]
  },
  {
   "cell_type": "code",
   "execution_count": 12,
   "id": "02efe57d",
   "metadata": {},
   "outputs": [
    {
     "name": "stdout",
     "output_type": "stream",
     "text": [
      "Top terms per cluster:\n",
      "Cluster 0:\n",
      " newell\n",
      " binding\n",
      " gbc\n",
      " pencil\n",
      " tables\n",
      " printer\n",
      " conference\n",
      " message\n",
      " sharpener\n",
      " series\n",
      "Cluster 1:\n",
      " binders\n",
      " ring\n",
      " wilson\n",
      " jones\n",
      " hanging\n",
      " durable\n",
      " binder\n",
      " post\n",
      " avery\n",
      " poly\n",
      "Cluster 2:\n",
      " staples\n",
      " pack\n",
      " 10\n",
      " envelopes\n",
      " imation\n",
      " minute\n",
      " cd\n",
      " 80\n",
      " diskettes\n",
      " ibm\n",
      "Cluster 3:\n",
      " chair\n",
      " global\n",
      " leather\n",
      " task\n",
      " arms\n",
      " swivel\n",
      " high\n",
      " office\n",
      " chairs\n",
      " star\n",
      "Cluster 4:\n",
      " keyboard\n",
      " key\n",
      " microsoft\n",
      " 104\n",
      " micro\n",
      " belkin\n",
      " internet\n",
      " logitech\n",
      " access\n",
      " fellowes\n",
      "Cluster 5:\n",
      " clock\n",
      " wall\n",
      " impressions\n",
      " executive\n",
      " diameter\n",
      " 12\n",
      " 13\n",
      " thomas\n",
      " seth\n",
      " round\n",
      "Cluster 6:\n",
      " xerox\n",
      " 210\n",
      " 1881\n",
      " 21\n",
      " 1894\n",
      " 1922\n",
      " 1983\n",
      " 23\n",
      " 1893\n",
      " 1927\n",
      "Cluster 7:\n",
      " avery\n",
      " desk\n",
      " accessories\n",
      " eldon\n",
      " binder\n",
      " expressions\n",
      " 494\n",
      " wood\n",
      " 508\n",
      " 481\n",
      "Cluster 8:\n",
      " bookcases\n",
      " collection\n",
      " bush\n",
      " shelf\n",
      " table\n",
      " sullivan\n",
      " duty\n",
      " heavy\n",
      " assembled\n",
      " fully\n",
      "Cluster 9:\n",
      " file\n",
      " personal\n",
      " black\n",
      " stacking\n",
      " standard\n",
      " box\n",
      " letter\n",
      " tenex\n",
      " eldon\n",
      " snap\n"
     ]
    },
    {
     "name": "stderr",
     "output_type": "stream",
     "text": [
      "C:\\Users\\Taha PC\\anaconda3\\lib\\site-packages\\sklearn\\utils\\deprecation.py:87: FutureWarning: Function get_feature_names is deprecated; get_feature_names is deprecated in 1.0 and will be removed in 1.2. Please use get_feature_names_out instead.\n",
      "  warnings.warn(msg, category=FutureWarning)\n"
     ]
    }
   ],
   "source": [
    "true_k = 10\n",
    "\n",
    "model = KMeans(n_clusters=true_k, init='k-means++', max_iter=100, n_init=1)\n",
    "model.fit(X1)\n",
    "\n",
    "print(\"Top terms per cluster:\")\n",
    "order_centroids = model.cluster_centers_.argsort()[:, ::-1]\n",
    "terms = vectorizer.get_feature_names()\n",
    "for i in range(true_k):\n",
    "    print_cluster(i)"
   ]
  },
  {
   "cell_type": "code",
   "execution_count": 15,
   "id": "e8585637",
   "metadata": {},
   "outputs": [],
   "source": [
    "def show_recommendations(product):\n",
    "    #print(\"Cluster ID:\")\n",
    "    Y = vectorizer.transform([product])\n",
    "    prediction = model.predict(Y)\n",
    "    print(prediction)\n",
    "    print_cluster(prediction[0])\n",
    "    print(type(prediction[0]))"
   ]
  },
  {
   "cell_type": "code",
   "execution_count": 16,
   "id": "a6a962af",
   "metadata": {},
   "outputs": [
    {
     "name": "stdout",
     "output_type": "stream",
     "text": [
      "[0]\n",
      "Cluster 0:\n",
      " newell\n",
      " binding\n",
      " gbc\n",
      " pencil\n",
      " tables\n",
      " printer\n",
      " conference\n",
      " message\n",
      " sharpener\n",
      " series\n",
      "<class 'numpy.int32'>\n"
     ]
    }
   ],
   "source": [
    "show_recommendations('3M Polarizing Task Lamp with Clamp Arm, Light Gray')"
   ]
  },
  {
   "cell_type": "markdown",
   "id": "47ddc7b2",
   "metadata": {},
   "source": [
    "### to give similar prod"
   ]
  },
  {
   "cell_type": "code",
   "execution_count": 17,
   "id": "8ec78b64",
   "metadata": {},
   "outputs": [],
   "source": [
    "prod=df[\"Product Name\"][:9421]"
   ]
  },
  {
   "cell_type": "code",
   "execution_count": 59,
   "id": "3ac26710",
   "metadata": {},
   "outputs": [],
   "source": [
    "list=[]\n",
    "for i in prod:\n",
    "    Y = vectorizer.transform([i])\n",
    "    prediction = model.predict(Y)\n",
    "    list.append(str(prediction))\n",
    "    #print(prediction)"
   ]
  },
  {
   "cell_type": "code",
   "execution_count": 69,
   "id": "e956ef8c",
   "metadata": {},
   "outputs": [],
   "source": [
    "dummy=df[:9421].copy()"
   ]
  },
  {
   "cell_type": "code",
   "execution_count": 70,
   "id": "df7a79eb",
   "metadata": {},
   "outputs": [],
   "source": [
    "dummy[\"clusters\"]=list"
   ]
  },
  {
   "cell_type": "code",
   "execution_count": 71,
   "id": "b1f5191b",
   "metadata": {},
   "outputs": [
    {
     "data": {
      "text/html": [
       "<div>\n",
       "<style scoped>\n",
       "    .dataframe tbody tr th:only-of-type {\n",
       "        vertical-align: middle;\n",
       "    }\n",
       "\n",
       "    .dataframe tbody tr th {\n",
       "        vertical-align: top;\n",
       "    }\n",
       "\n",
       "    .dataframe thead th {\n",
       "        text-align: right;\n",
       "    }\n",
       "</style>\n",
       "<table border=\"1\" class=\"dataframe\">\n",
       "  <thead>\n",
       "    <tr style=\"text-align: right;\">\n",
       "      <th></th>\n",
       "      <th>Row ID</th>\n",
       "      <th>Order Priority</th>\n",
       "      <th>Discount</th>\n",
       "      <th>Unit Price</th>\n",
       "      <th>Shipping Cost</th>\n",
       "      <th>Customer ID</th>\n",
       "      <th>Customer Name</th>\n",
       "      <th>Ship Mode</th>\n",
       "      <th>Customer Segment</th>\n",
       "      <th>Product Category</th>\n",
       "      <th>...</th>\n",
       "      <th>State or Province</th>\n",
       "      <th>City</th>\n",
       "      <th>Postal Code</th>\n",
       "      <th>Order Date</th>\n",
       "      <th>Ship Date</th>\n",
       "      <th>Profit</th>\n",
       "      <th>Quantity ordered new</th>\n",
       "      <th>Sales</th>\n",
       "      <th>Order ID</th>\n",
       "      <th>clusters</th>\n",
       "    </tr>\n",
       "  </thead>\n",
       "  <tbody>\n",
       "    <tr>\n",
       "      <th>0</th>\n",
       "      <td>18606</td>\n",
       "      <td>Not Specified</td>\n",
       "      <td>0.01</td>\n",
       "      <td>2.88</td>\n",
       "      <td>0.50</td>\n",
       "      <td>2</td>\n",
       "      <td>Janice Fletcher</td>\n",
       "      <td>Regular Air</td>\n",
       "      <td>Corporate</td>\n",
       "      <td>Office Supplies</td>\n",
       "      <td>...</td>\n",
       "      <td>Illinois</td>\n",
       "      <td>Addison</td>\n",
       "      <td>60101</td>\n",
       "      <td>2012-05-28</td>\n",
       "      <td>2012-05-30</td>\n",
       "      <td>1.32000</td>\n",
       "      <td>2</td>\n",
       "      <td>5.90</td>\n",
       "      <td>88525</td>\n",
       "      <td>[7]</td>\n",
       "    </tr>\n",
       "    <tr>\n",
       "      <th>1</th>\n",
       "      <td>20847</td>\n",
       "      <td>High</td>\n",
       "      <td>0.01</td>\n",
       "      <td>2.84</td>\n",
       "      <td>0.93</td>\n",
       "      <td>3</td>\n",
       "      <td>Bonnie Potter</td>\n",
       "      <td>Express Air</td>\n",
       "      <td>Corporate</td>\n",
       "      <td>Office Supplies</td>\n",
       "      <td>...</td>\n",
       "      <td>Washington</td>\n",
       "      <td>Anacortes</td>\n",
       "      <td>98221</td>\n",
       "      <td>2010-07-07</td>\n",
       "      <td>2010-07-08</td>\n",
       "      <td>4.56000</td>\n",
       "      <td>4</td>\n",
       "      <td>13.01</td>\n",
       "      <td>88522</td>\n",
       "      <td>[0]</td>\n",
       "    </tr>\n",
       "    <tr>\n",
       "      <th>2</th>\n",
       "      <td>23086</td>\n",
       "      <td>Not Specified</td>\n",
       "      <td>0.03</td>\n",
       "      <td>6.68</td>\n",
       "      <td>6.15</td>\n",
       "      <td>3</td>\n",
       "      <td>Bonnie Potter</td>\n",
       "      <td>Express Air</td>\n",
       "      <td>Corporate</td>\n",
       "      <td>Office Supplies</td>\n",
       "      <td>...</td>\n",
       "      <td>Washington</td>\n",
       "      <td>Anacortes</td>\n",
       "      <td>98221</td>\n",
       "      <td>2011-07-27</td>\n",
       "      <td>2011-07-28</td>\n",
       "      <td>-47.64000</td>\n",
       "      <td>7</td>\n",
       "      <td>49.92</td>\n",
       "      <td>88523</td>\n",
       "      <td>[6]</td>\n",
       "    </tr>\n",
       "    <tr>\n",
       "      <th>3</th>\n",
       "      <td>23087</td>\n",
       "      <td>Not Specified</td>\n",
       "      <td>0.01</td>\n",
       "      <td>5.68</td>\n",
       "      <td>3.60</td>\n",
       "      <td>3</td>\n",
       "      <td>Bonnie Potter</td>\n",
       "      <td>Regular Air</td>\n",
       "      <td>Corporate</td>\n",
       "      <td>Office Supplies</td>\n",
       "      <td>...</td>\n",
       "      <td>Washington</td>\n",
       "      <td>Anacortes</td>\n",
       "      <td>98221</td>\n",
       "      <td>2011-07-27</td>\n",
       "      <td>2011-07-28</td>\n",
       "      <td>-30.51000</td>\n",
       "      <td>7</td>\n",
       "      <td>41.64</td>\n",
       "      <td>88523</td>\n",
       "      <td>[0]</td>\n",
       "    </tr>\n",
       "    <tr>\n",
       "      <th>4</th>\n",
       "      <td>23088</td>\n",
       "      <td>Not Specified</td>\n",
       "      <td>0.00</td>\n",
       "      <td>205.99</td>\n",
       "      <td>2.50</td>\n",
       "      <td>3</td>\n",
       "      <td>Bonnie Potter</td>\n",
       "      <td>Express Air</td>\n",
       "      <td>Corporate</td>\n",
       "      <td>Technology</td>\n",
       "      <td>...</td>\n",
       "      <td>Washington</td>\n",
       "      <td>Anacortes</td>\n",
       "      <td>98221</td>\n",
       "      <td>2011-07-27</td>\n",
       "      <td>2011-07-27</td>\n",
       "      <td>998.20230</td>\n",
       "      <td>8</td>\n",
       "      <td>1446.67</td>\n",
       "      <td>88523</td>\n",
       "      <td>[0]</td>\n",
       "    </tr>\n",
       "    <tr>\n",
       "      <th>...</th>\n",
       "      <td>...</td>\n",
       "      <td>...</td>\n",
       "      <td>...</td>\n",
       "      <td>...</td>\n",
       "      <td>...</td>\n",
       "      <td>...</td>\n",
       "      <td>...</td>\n",
       "      <td>...</td>\n",
       "      <td>...</td>\n",
       "      <td>...</td>\n",
       "      <td>...</td>\n",
       "      <td>...</td>\n",
       "      <td>...</td>\n",
       "      <td>...</td>\n",
       "      <td>...</td>\n",
       "      <td>...</td>\n",
       "      <td>...</td>\n",
       "      <td>...</td>\n",
       "      <td>...</td>\n",
       "      <td>...</td>\n",
       "      <td>...</td>\n",
       "    </tr>\n",
       "    <tr>\n",
       "      <th>9416</th>\n",
       "      <td>24933</td>\n",
       "      <td>Medium</td>\n",
       "      <td>0.01</td>\n",
       "      <td>7.64</td>\n",
       "      <td>5.83</td>\n",
       "      <td>3400</td>\n",
       "      <td>Florence Gold</td>\n",
       "      <td>Regular Air</td>\n",
       "      <td>Corporate</td>\n",
       "      <td>Office Supplies</td>\n",
       "      <td>...</td>\n",
       "      <td>West Virginia</td>\n",
       "      <td>Fairmont</td>\n",
       "      <td>26554</td>\n",
       "      <td>2012-11-29</td>\n",
       "      <td>2012-11-29</td>\n",
       "      <td>3.31200</td>\n",
       "      <td>8</td>\n",
       "      <td>67.50</td>\n",
       "      <td>87545</td>\n",
       "      <td>[0]</td>\n",
       "    </tr>\n",
       "    <tr>\n",
       "      <th>9417</th>\n",
       "      <td>23413</td>\n",
       "      <td>Critical</td>\n",
       "      <td>0.07</td>\n",
       "      <td>115.79</td>\n",
       "      <td>1.99</td>\n",
       "      <td>3400</td>\n",
       "      <td>Florence Gold</td>\n",
       "      <td>Regular Air</td>\n",
       "      <td>Corporate</td>\n",
       "      <td>Technology</td>\n",
       "      <td>...</td>\n",
       "      <td>West Virginia</td>\n",
       "      <td>Fairmont</td>\n",
       "      <td>26554</td>\n",
       "      <td>2013-04-27</td>\n",
       "      <td>2013-04-29</td>\n",
       "      <td>606.30990</td>\n",
       "      <td>8</td>\n",
       "      <td>878.71</td>\n",
       "      <td>87546</td>\n",
       "      <td>[0]</td>\n",
       "    </tr>\n",
       "    <tr>\n",
       "      <th>9418</th>\n",
       "      <td>23414</td>\n",
       "      <td>Critical</td>\n",
       "      <td>0.02</td>\n",
       "      <td>37.44</td>\n",
       "      <td>4.27</td>\n",
       "      <td>3400</td>\n",
       "      <td>Florence Gold</td>\n",
       "      <td>Regular Air</td>\n",
       "      <td>Corporate</td>\n",
       "      <td>Office Supplies</td>\n",
       "      <td>...</td>\n",
       "      <td>West Virginia</td>\n",
       "      <td>Fairmont</td>\n",
       "      <td>26554</td>\n",
       "      <td>2013-04-27</td>\n",
       "      <td>2013-04-30</td>\n",
       "      <td>-15.03000</td>\n",
       "      <td>1</td>\n",
       "      <td>43.90</td>\n",
       "      <td>87546</td>\n",
       "      <td>[0]</td>\n",
       "    </tr>\n",
       "    <tr>\n",
       "      <th>9419</th>\n",
       "      <td>24912</td>\n",
       "      <td>Medium</td>\n",
       "      <td>0.05</td>\n",
       "      <td>35.99</td>\n",
       "      <td>1.25</td>\n",
       "      <td>3400</td>\n",
       "      <td>Florence Gold</td>\n",
       "      <td>Regular Air</td>\n",
       "      <td>Small Business</td>\n",
       "      <td>Technology</td>\n",
       "      <td>...</td>\n",
       "      <td>West Virginia</td>\n",
       "      <td>Fairmont</td>\n",
       "      <td>26554</td>\n",
       "      <td>2013-10-04</td>\n",
       "      <td>2013-10-05</td>\n",
       "      <td>411.48150</td>\n",
       "      <td>19</td>\n",
       "      <td>596.35</td>\n",
       "      <td>87549</td>\n",
       "      <td>[0]</td>\n",
       "    </tr>\n",
       "    <tr>\n",
       "      <th>9420</th>\n",
       "      <td>18329</td>\n",
       "      <td>High</td>\n",
       "      <td>0.08</td>\n",
       "      <td>212.60</td>\n",
       "      <td>52.20</td>\n",
       "      <td>3402</td>\n",
       "      <td>Frederick Cole</td>\n",
       "      <td>Delivery Truck</td>\n",
       "      <td>Consumer</td>\n",
       "      <td>Furniture</td>\n",
       "      <td>...</td>\n",
       "      <td>West Virginia</td>\n",
       "      <td>Charleston</td>\n",
       "      <td>25314</td>\n",
       "      <td>2011-04-12</td>\n",
       "      <td>2011-04-12</td>\n",
       "      <td>-513.79042</td>\n",
       "      <td>10</td>\n",
       "      <td>1969.31</td>\n",
       "      <td>87531</td>\n",
       "      <td>[8]</td>\n",
       "    </tr>\n",
       "  </tbody>\n",
       "</table>\n",
       "<p>9421 rows × 25 columns</p>\n",
       "</div>"
      ],
      "text/plain": [
       "      Row ID Order Priority  Discount  Unit Price  Shipping Cost  Customer ID  \\\n",
       "0      18606  Not Specified      0.01        2.88           0.50            2   \n",
       "1      20847           High      0.01        2.84           0.93            3   \n",
       "2      23086  Not Specified      0.03        6.68           6.15            3   \n",
       "3      23087  Not Specified      0.01        5.68           3.60            3   \n",
       "4      23088  Not Specified      0.00      205.99           2.50            3   \n",
       "...      ...            ...       ...         ...            ...          ...   \n",
       "9416   24933         Medium      0.01        7.64           5.83         3400   \n",
       "9417   23413       Critical      0.07      115.79           1.99         3400   \n",
       "9418   23414       Critical      0.02       37.44           4.27         3400   \n",
       "9419   24912         Medium      0.05       35.99           1.25         3400   \n",
       "9420   18329           High      0.08      212.60          52.20         3402   \n",
       "\n",
       "        Customer Name       Ship Mode Customer Segment Product Category  ...  \\\n",
       "0     Janice Fletcher     Regular Air        Corporate  Office Supplies  ...   \n",
       "1       Bonnie Potter     Express Air        Corporate  Office Supplies  ...   \n",
       "2       Bonnie Potter     Express Air        Corporate  Office Supplies  ...   \n",
       "3       Bonnie Potter     Regular Air        Corporate  Office Supplies  ...   \n",
       "4       Bonnie Potter     Express Air        Corporate       Technology  ...   \n",
       "...               ...             ...              ...              ...  ...   \n",
       "9416    Florence Gold     Regular Air        Corporate  Office Supplies  ...   \n",
       "9417    Florence Gold     Regular Air        Corporate       Technology  ...   \n",
       "9418    Florence Gold     Regular Air        Corporate  Office Supplies  ...   \n",
       "9419    Florence Gold     Regular Air   Small Business       Technology  ...   \n",
       "9420   Frederick Cole  Delivery Truck         Consumer        Furniture  ...   \n",
       "\n",
       "     State or Province        City Postal Code  Order Date  Ship Date  \\\n",
       "0             Illinois     Addison       60101  2012-05-28 2012-05-30   \n",
       "1           Washington   Anacortes       98221  2010-07-07 2010-07-08   \n",
       "2           Washington   Anacortes       98221  2011-07-27 2011-07-28   \n",
       "3           Washington   Anacortes       98221  2011-07-27 2011-07-28   \n",
       "4           Washington   Anacortes       98221  2011-07-27 2011-07-27   \n",
       "...                ...         ...         ...         ...        ...   \n",
       "9416     West Virginia    Fairmont       26554  2012-11-29 2012-11-29   \n",
       "9417     West Virginia    Fairmont       26554  2013-04-27 2013-04-29   \n",
       "9418     West Virginia    Fairmont       26554  2013-04-27 2013-04-30   \n",
       "9419     West Virginia    Fairmont       26554  2013-10-04 2013-10-05   \n",
       "9420     West Virginia  Charleston       25314  2011-04-12 2011-04-12   \n",
       "\n",
       "         Profit Quantity ordered new    Sales Order ID clusters  \n",
       "0       1.32000                    2     5.90    88525      [7]  \n",
       "1       4.56000                    4    13.01    88522      [0]  \n",
       "2     -47.64000                    7    49.92    88523      [6]  \n",
       "3     -30.51000                    7    41.64    88523      [0]  \n",
       "4     998.20230                    8  1446.67    88523      [0]  \n",
       "...         ...                  ...      ...      ...      ...  \n",
       "9416    3.31200                    8    67.50    87545      [0]  \n",
       "9417  606.30990                    8   878.71    87546      [0]  \n",
       "9418  -15.03000                    1    43.90    87546      [0]  \n",
       "9419  411.48150                   19   596.35    87549      [0]  \n",
       "9420 -513.79042                   10  1969.31    87531      [8]  \n",
       "\n",
       "[9421 rows x 25 columns]"
      ]
     },
     "execution_count": 71,
     "metadata": {},
     "output_type": "execute_result"
    }
   ],
   "source": [
    "dummy"
   ]
  },
  {
   "cell_type": "code",
   "execution_count": 90,
   "id": "31def473",
   "metadata": {},
   "outputs": [],
   "source": [
    "def show_recommendations(product):\n",
    "    Y = vectorizer.transform([product])\n",
    "    prediction = model.predict(Y)\n",
    "    print(prediction)\n",
    "    return(dummy[dummy[\"clusters\"]==str(prediction)][\"Product Name\"].head(15))\n",
    "#to make cluster visible    \n",
    "#     print_cluster(prediction[0])\n",
    "#     print(type(prediction[0]))"
   ]
  },
  {
   "cell_type": "code",
   "execution_count": 91,
   "id": "ee5c76c6",
   "metadata": {},
   "outputs": [
    {
     "data": {
      "text/plain": [
       "0                                                Avery 49\n",
       "1          SANFORD Liquid Accent™ Tank-Style Highlighters\n",
       "2                                              Xerox 1968\n",
       "3                Acme® Preferred Stainless Steel Scissors\n",
       "4                                                     V70\n",
       "                              ...                        \n",
       "9416    Rediform Wirebound \"Phone Memo\" Message Book, ...\n",
       "9417    Verbatim DVD-R, 4.7GB, Spindle, WE, Blank, Ink...\n",
       "9418    Sanford Prismacolor® Professional Thick Lead A...\n",
       "9419                                          Accessory23\n",
       "9420    Bush Advantage Collection® Round Conference Table\n",
       "Name: Product Name, Length: 9421, dtype: object"
      ]
     },
     "execution_count": 91,
     "metadata": {},
     "output_type": "execute_result"
    }
   ],
   "source": [
    "#choose a prod\n",
    "df[\"Product Name\"][:9421]"
   ]
  },
  {
   "cell_type": "markdown",
   "id": "c745ef38",
   "metadata": {},
   "source": [
    "## Recommendation"
   ]
  },
  {
   "cell_type": "code",
   "execution_count": 92,
   "id": "ec6791e2",
   "metadata": {},
   "outputs": [
    {
     "name": "stdout",
     "output_type": "stream",
     "text": [
      "[8]\n",
      "Lesro Sheffield Collection Coffee Table, End Table, Center Table, Corner Table\n",
      "O'Sullivan 5-Shelf Heavy-Duty Bookcases\n",
      "Atlantic Metals Mobile 5-Shelf Bookcases, Custom Colors\n",
      "Atlantic Metals Mobile 5-Shelf Bookcases, Custom Colors\n",
      "Bush Westfield Collection Bookcases, Fully Assembled\n",
      "Bush Mission Pointe Library\n",
      "Bush Westfield Collection Bookcases, Fully Assembled\n",
      "Bush Heritage Pine Collection 5-Shelf Bookcase, Albany Pine Finish, *Special Order\n",
      "Bush Advantage Collection® Racetrack Conference Table\n",
      "Lesro Sheffield Collection Coffee Table, End Table, Center Table, Corner Table\n",
      "Lesro Sheffield Collection Coffee Table, End Table, Center Table, Corner Table\n",
      "O'Sullivan 5-Shelf Heavy-Duty Bookcases\n",
      "O'Sullivan 2-Shelf Heavy-Duty Bookcases\n",
      "Rush Hierlooms Collection 1\" Thick Stackable Bookcases\n",
      "Bush Westfield Collection Bookcases, Dark Cherry Finish, Fully Assembled\n"
     ]
    }
   ],
   "source": [
    "for i in show_recommendations(\"Bush Advantage Collection® Round Conference Table\"):\n",
    "    print(i)"
   ]
  },
  {
   "cell_type": "code",
   "execution_count": null,
   "id": "ca47f895",
   "metadata": {},
   "outputs": [],
   "source": []
  }
 ],
 "metadata": {
  "kernelspec": {
   "display_name": "Python 3 (ipykernel)",
   "language": "python",
   "name": "python3"
  },
  "language_info": {
   "codemirror_mode": {
    "name": "ipython",
    "version": 3
   },
   "file_extension": ".py",
   "mimetype": "text/x-python",
   "name": "python",
   "nbconvert_exporter": "python",
   "pygments_lexer": "ipython3",
   "version": "3.9.12"
  }
 },
 "nbformat": 4,
 "nbformat_minor": 5
}
