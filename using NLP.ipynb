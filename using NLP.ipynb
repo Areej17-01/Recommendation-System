{
 "cells": [
  {
   "cell_type": "code",
   "execution_count": 2,
   "id": "e05d96be",
   "metadata": {},
   "outputs": [],
   "source": [
    "import numpy as np\n",
    "import pandas as pd\n",
    "import matplotlib.pyplot as plt\n",
    "import seaborn as sns\n",
    "sns.set()"
   ]
  },
  {
   "cell_type": "code",
   "execution_count": 3,
   "id": "f091fa69",
   "metadata": {},
   "outputs": [],
   "source": [
    "df=pd.read_excel(\"Superstore_USA.xlsx\")"
   ]
  },
  {
   "cell_type": "code",
   "execution_count": 4,
   "id": "e6af425f",
   "metadata": {},
   "outputs": [],
   "source": [
    "data=df.copy()"
   ]
  },
  {
   "cell_type": "markdown",
   "id": "3d0c40fd",
   "metadata": {},
   "source": [
    "###### since the data did'nt had description column i worked on the product name"
   ]
  },
  {
   "cell_type": "markdown",
   "id": "31371e1b",
   "metadata": {},
   "source": [
    "# CASE2:"
   ]
  },
  {
   "cell_type": "code",
   "execution_count": 5,
   "id": "2b279308",
   "metadata": {},
   "outputs": [
    {
     "data": {
      "text/html": [
       "<div>\n",
       "<style scoped>\n",
       "    .dataframe tbody tr th:only-of-type {\n",
       "        vertical-align: middle;\n",
       "    }\n",
       "\n",
       "    .dataframe tbody tr th {\n",
       "        vertical-align: top;\n",
       "    }\n",
       "\n",
       "    .dataframe thead th {\n",
       "        text-align: right;\n",
       "    }\n",
       "</style>\n",
       "<table border=\"1\" class=\"dataframe\">\n",
       "  <thead>\n",
       "    <tr style=\"text-align: right;\">\n",
       "      <th></th>\n",
       "      <th>Row ID</th>\n",
       "      <th>Order Priority</th>\n",
       "      <th>Discount</th>\n",
       "      <th>Unit Price</th>\n",
       "      <th>Shipping Cost</th>\n",
       "      <th>Customer ID</th>\n",
       "      <th>Customer Name</th>\n",
       "      <th>Ship Mode</th>\n",
       "      <th>Customer Segment</th>\n",
       "      <th>Product Category</th>\n",
       "      <th>...</th>\n",
       "      <th>Region</th>\n",
       "      <th>State or Province</th>\n",
       "      <th>City</th>\n",
       "      <th>Postal Code</th>\n",
       "      <th>Order Date</th>\n",
       "      <th>Ship Date</th>\n",
       "      <th>Profit</th>\n",
       "      <th>Quantity ordered new</th>\n",
       "      <th>Sales</th>\n",
       "      <th>Order ID</th>\n",
       "    </tr>\n",
       "  </thead>\n",
       "  <tbody>\n",
       "    <tr>\n",
       "      <th>0</th>\n",
       "      <td>18606</td>\n",
       "      <td>Not Specified</td>\n",
       "      <td>0.01</td>\n",
       "      <td>2.88</td>\n",
       "      <td>0.50</td>\n",
       "      <td>2</td>\n",
       "      <td>Janice Fletcher</td>\n",
       "      <td>Regular Air</td>\n",
       "      <td>Corporate</td>\n",
       "      <td>Office Supplies</td>\n",
       "      <td>...</td>\n",
       "      <td>Central</td>\n",
       "      <td>Illinois</td>\n",
       "      <td>Addison</td>\n",
       "      <td>60101</td>\n",
       "      <td>2012-05-28</td>\n",
       "      <td>2012-05-30</td>\n",
       "      <td>1.3200</td>\n",
       "      <td>2</td>\n",
       "      <td>5.90</td>\n",
       "      <td>88525</td>\n",
       "    </tr>\n",
       "    <tr>\n",
       "      <th>1</th>\n",
       "      <td>20847</td>\n",
       "      <td>High</td>\n",
       "      <td>0.01</td>\n",
       "      <td>2.84</td>\n",
       "      <td>0.93</td>\n",
       "      <td>3</td>\n",
       "      <td>Bonnie Potter</td>\n",
       "      <td>Express Air</td>\n",
       "      <td>Corporate</td>\n",
       "      <td>Office Supplies</td>\n",
       "      <td>...</td>\n",
       "      <td>West</td>\n",
       "      <td>Washington</td>\n",
       "      <td>Anacortes</td>\n",
       "      <td>98221</td>\n",
       "      <td>2010-07-07</td>\n",
       "      <td>2010-07-08</td>\n",
       "      <td>4.5600</td>\n",
       "      <td>4</td>\n",
       "      <td>13.01</td>\n",
       "      <td>88522</td>\n",
       "    </tr>\n",
       "    <tr>\n",
       "      <th>2</th>\n",
       "      <td>23086</td>\n",
       "      <td>Not Specified</td>\n",
       "      <td>0.03</td>\n",
       "      <td>6.68</td>\n",
       "      <td>6.15</td>\n",
       "      <td>3</td>\n",
       "      <td>Bonnie Potter</td>\n",
       "      <td>Express Air</td>\n",
       "      <td>Corporate</td>\n",
       "      <td>Office Supplies</td>\n",
       "      <td>...</td>\n",
       "      <td>West</td>\n",
       "      <td>Washington</td>\n",
       "      <td>Anacortes</td>\n",
       "      <td>98221</td>\n",
       "      <td>2011-07-27</td>\n",
       "      <td>2011-07-28</td>\n",
       "      <td>-47.6400</td>\n",
       "      <td>7</td>\n",
       "      <td>49.92</td>\n",
       "      <td>88523</td>\n",
       "    </tr>\n",
       "    <tr>\n",
       "      <th>3</th>\n",
       "      <td>23087</td>\n",
       "      <td>Not Specified</td>\n",
       "      <td>0.01</td>\n",
       "      <td>5.68</td>\n",
       "      <td>3.60</td>\n",
       "      <td>3</td>\n",
       "      <td>Bonnie Potter</td>\n",
       "      <td>Regular Air</td>\n",
       "      <td>Corporate</td>\n",
       "      <td>Office Supplies</td>\n",
       "      <td>...</td>\n",
       "      <td>West</td>\n",
       "      <td>Washington</td>\n",
       "      <td>Anacortes</td>\n",
       "      <td>98221</td>\n",
       "      <td>2011-07-27</td>\n",
       "      <td>2011-07-28</td>\n",
       "      <td>-30.5100</td>\n",
       "      <td>7</td>\n",
       "      <td>41.64</td>\n",
       "      <td>88523</td>\n",
       "    </tr>\n",
       "    <tr>\n",
       "      <th>4</th>\n",
       "      <td>23088</td>\n",
       "      <td>Not Specified</td>\n",
       "      <td>0.00</td>\n",
       "      <td>205.99</td>\n",
       "      <td>2.50</td>\n",
       "      <td>3</td>\n",
       "      <td>Bonnie Potter</td>\n",
       "      <td>Express Air</td>\n",
       "      <td>Corporate</td>\n",
       "      <td>Technology</td>\n",
       "      <td>...</td>\n",
       "      <td>West</td>\n",
       "      <td>Washington</td>\n",
       "      <td>Anacortes</td>\n",
       "      <td>98221</td>\n",
       "      <td>2011-07-27</td>\n",
       "      <td>2011-07-27</td>\n",
       "      <td>998.2023</td>\n",
       "      <td>8</td>\n",
       "      <td>1446.67</td>\n",
       "      <td>88523</td>\n",
       "    </tr>\n",
       "  </tbody>\n",
       "</table>\n",
       "<p>5 rows × 24 columns</p>\n",
       "</div>"
      ],
      "text/plain": [
       "   Row ID Order Priority  Discount  Unit Price  Shipping Cost  Customer ID  \\\n",
       "0   18606  Not Specified      0.01        2.88           0.50            2   \n",
       "1   20847           High      0.01        2.84           0.93            3   \n",
       "2   23086  Not Specified      0.03        6.68           6.15            3   \n",
       "3   23087  Not Specified      0.01        5.68           3.60            3   \n",
       "4   23088  Not Specified      0.00      205.99           2.50            3   \n",
       "\n",
       "     Customer Name    Ship Mode Customer Segment Product Category  ...  \\\n",
       "0  Janice Fletcher  Regular Air        Corporate  Office Supplies  ...   \n",
       "1    Bonnie Potter  Express Air        Corporate  Office Supplies  ...   \n",
       "2    Bonnie Potter  Express Air        Corporate  Office Supplies  ...   \n",
       "3    Bonnie Potter  Regular Air        Corporate  Office Supplies  ...   \n",
       "4    Bonnie Potter  Express Air        Corporate       Technology  ...   \n",
       "\n",
       "    Region State or Province       City  Postal Code Order Date  Ship Date  \\\n",
       "0  Central          Illinois    Addison        60101 2012-05-28 2012-05-30   \n",
       "1     West        Washington  Anacortes        98221 2010-07-07 2010-07-08   \n",
       "2     West        Washington  Anacortes        98221 2011-07-27 2011-07-28   \n",
       "3     West        Washington  Anacortes        98221 2011-07-27 2011-07-28   \n",
       "4     West        Washington  Anacortes        98221 2011-07-27 2011-07-27   \n",
       "\n",
       "     Profit  Quantity ordered new    Sales Order ID  \n",
       "0    1.3200                     2     5.90    88525  \n",
       "1    4.5600                     4    13.01    88522  \n",
       "2  -47.6400                     7    49.92    88523  \n",
       "3  -30.5100                     7    41.64    88523  \n",
       "4  998.2023                     8  1446.67    88523  \n",
       "\n",
       "[5 rows x 24 columns]"
      ]
     },
     "execution_count": 5,
     "metadata": {},
     "output_type": "execute_result"
    }
   ],
   "source": [
    "df.head()"
   ]
  },
  {
   "cell_type": "code",
   "execution_count": 6,
   "id": "86371f57",
   "metadata": {},
   "outputs": [],
   "source": [
    "from sklearn.feature_extraction.text import TfidfVectorizer, CountVectorizer\n",
    "from sklearn.neighbors import NearestNeighbors\n",
    "from sklearn.cluster import KMeans\n",
    "from sklearn.metrics import adjusted_rand_score"
   ]
  },
  {
   "cell_type": "code",
   "execution_count": 7,
   "id": "57df2f38",
   "metadata": {},
   "outputs": [
    {
     "data": {
      "text/plain": [
       "Index(['Row ID', 'Order Priority', 'Discount', 'Unit Price', 'Shipping Cost',\n",
       "       'Customer ID', 'Customer Name', 'Ship Mode', 'Customer Segment',\n",
       "       'Product Category', 'Product Sub-Category', 'Product Container',\n",
       "       'Product Name', 'Product Base Margin', 'Region', 'State or Province',\n",
       "       'City', 'Postal Code', 'Order Date', 'Ship Date', 'Profit',\n",
       "       'Quantity ordered new', 'Sales', 'Order ID'],\n",
       "      dtype='object')"
      ]
     },
     "execution_count": 7,
     "metadata": {},
     "output_type": "execute_result"
    }
   ],
   "source": [
    "df.columns"
   ]
  },
  {
   "cell_type": "code",
   "execution_count": 8,
   "id": "413887ce",
   "metadata": {},
   "outputs": [],
   "source": [
    "df['Product Name'] =df['Product Name'].str.lower()"
   ]
  },
  {
   "cell_type": "code",
   "execution_count": 9,
   "id": "95e9f72c",
   "metadata": {},
   "outputs": [
    {
     "data": {
      "text/plain": [
       "0                                                avery 49\n",
       "1          sanford liquid accent™ tank-style highlighters\n",
       "2                                              xerox 1968\n",
       "3                acme® preferred stainless steel scissors\n",
       "4                                                     v70\n",
       "                              ...                        \n",
       "9421        jet-pak recycled peel 'n' seal padded mailers\n",
       "9422         eldon spacemaker® box, quick-snap lid, clear\n",
       "9423    chromcraft bull-nose wood oval conference tabl...\n",
       "9424    tenex 46\" x 60\" computer anti-static chairmat,...\n",
       "9425                        staples #10 colored envelopes\n",
       "Name: Product Name, Length: 9426, dtype: object"
      ]
     },
     "execution_count": 9,
     "metadata": {},
     "output_type": "execute_result"
    }
   ],
   "source": [
    "df['Product Name']"
   ]
  },
  {
   "cell_type": "code",
   "execution_count": 10,
   "id": "cf2ed6ef",
   "metadata": {},
   "outputs": [
    {
     "name": "stderr",
     "output_type": "stream",
     "text": [
      "[nltk_data] Downloading package stopwords to C:\\Users\\Taha\n",
      "[nltk_data]     PC\\AppData\\Roaming\\nltk_data...\n",
      "[nltk_data]   Package stopwords is already up-to-date!\n"
     ]
    },
    {
     "data": {
      "text/plain": [
       "True"
      ]
     },
     "execution_count": 10,
     "metadata": {},
     "output_type": "execute_result"
    }
   ],
   "source": [
    "import nltk\n",
    "nltk.download('stopwords')"
   ]
  },
  {
   "cell_type": "code",
   "execution_count": 11,
   "id": "15a56eba",
   "metadata": {},
   "outputs": [],
   "source": [
    "from nltk.corpus import stopwords\n",
    "from nltk.stem.porter import PorterStemmer\n",
    "#stopwords.words('english')"
   ]
  },
  {
   "cell_type": "code",
   "execution_count": 12,
   "id": "b36c10da",
   "metadata": {},
   "outputs": [],
   "source": [
    "port_stem = PorterStemmer()\n",
    "import re"
   ]
  },
  {
   "cell_type": "code",
   "execution_count": 13,
   "id": "19b200e8",
   "metadata": {},
   "outputs": [],
   "source": [
    "def stemming(content):\n",
    "    stemmed_content = re.sub('[^a-zA-Z]',' ',content)\n",
    "    stemmed_content = stemmed_content.lower()\n",
    "    stemmed_content = stemmed_content.split()\n",
    "    stemmed_content = [port_stem.stem(word) for word in stemmed_content if not word in stopwords.words('english')]\n",
    "    stemmed_content = ' '.join(stemmed_content)\n",
    "    return stemmed_content"
   ]
  },
  {
   "cell_type": "code",
   "execution_count": 14,
   "id": "49bb4076",
   "metadata": {},
   "outputs": [],
   "source": [
    "df['Product Name'] = df['Product Name'].apply(stemming)"
   ]
  },
  {
   "cell_type": "code",
   "execution_count": 15,
   "id": "b1279594",
   "metadata": {},
   "outputs": [
    {
     "data": {
      "text/plain": [
       "0                                                   averi\n",
       "1              sanford liquid accent tank style highlight\n",
       "2                                                   xerox\n",
       "3                      acm prefer stainless steel scissor\n",
       "4                                                       v\n",
       "                              ...                        \n",
       "9421                jet pak recycl peel n seal pad mailer\n",
       "9422              eldon spacemak box quick snap lid clear\n",
       "9423      chromcraft bull nose wood oval confer tabl base\n",
       "9424    tenex x comput anti static chairmat rectangula...\n",
       "9425                                  stapl color envelop\n",
       "Name: Product Name, Length: 9426, dtype: object"
      ]
     },
     "execution_count": 15,
     "metadata": {},
     "output_type": "execute_result"
    }
   ],
   "source": [
    "df['Product Name']"
   ]
  },
  {
   "cell_type": "code",
   "execution_count": 16,
   "id": "5a80be0e",
   "metadata": {},
   "outputs": [],
   "source": [
    "dataset=[]\n",
    "dataset=pd.DataFrame(dataset)\n",
    "dataset[\"Product Name\"]=data[\"Product Name\"]\n",
    "dataset[\"Product Name shortened\"]=df['Product Name']"
   ]
  },
  {
   "cell_type": "code",
   "execution_count": 17,
   "id": "c520100a",
   "metadata": {},
   "outputs": [],
   "source": [
    "word_list=df[\"Product Name\"].str.split(\" \")"
   ]
  },
  {
   "cell_type": "code",
   "execution_count": 18,
   "id": "03870da3",
   "metadata": {},
   "outputs": [],
   "source": [
    "words=[]\n",
    "for i in word_list:\n",
    "    for j in i:\n",
    "        words.append(j)"
   ]
  },
  {
   "cell_type": "code",
   "execution_count": null,
   "id": "bb2c82ad",
   "metadata": {},
   "outputs": [],
   "source": []
  },
  {
   "cell_type": "code",
   "execution_count": 19,
   "id": "9409fa26",
   "metadata": {},
   "outputs": [],
   "source": [
    "item2=dataset[dataset[\"Product Name shortened\"]==\"sanford liquid accent tank style highlight\"][:1][\"Product Name shortened\"].values.tolist()"
   ]
  },
  {
   "cell_type": "code",
   "execution_count": 20,
   "id": "38e343cb",
   "metadata": {},
   "outputs": [
    {
     "data": {
      "text/plain": [
       "['sanford liquid accent tank style highlight']"
      ]
     },
     "execution_count": 20,
     "metadata": {},
     "output_type": "execute_result"
    }
   ],
   "source": [
    "item2"
   ]
  },
  {
   "cell_type": "code",
   "execution_count": 21,
   "id": "f9776a06",
   "metadata": {},
   "outputs": [],
   "source": [
    "dict={}\n",
    "splited=item2[0].split()\n",
    "for j in dataset[\"Product Name shortened\"]: \n",
    "    counter=0\n",
    "    thing=j.split()\n",
    "    if item2[0]!=j:\n",
    "        for i in splited:\n",
    "            if i in thing:\n",
    "                counter+=1\n",
    "                \n",
    "        dict[j]=counter\n"
   ]
  },
  {
   "cell_type": "code",
   "execution_count": 41,
   "id": "6463ec6a",
   "metadata": {},
   "outputs": [],
   "source": [
    "#dict"
   ]
  },
  {
   "cell_type": "markdown",
   "id": "b6f2401a",
   "metadata": {},
   "source": [
    "## recommendation system"
   ]
  },
  {
   "cell_type": "code",
   "execution_count": 48,
   "id": "c672001f",
   "metadata": {},
   "outputs": [],
   "source": [
    "def recommendation(product_name):\n",
    "    item2=dataset[dataset[\"Product Name\"]==product_name ][\"Product Name shortened\"][:1].values.tolist()\n",
    "    dict={}\n",
    "    splited=item2[0].split()\n",
    "    for j,k in zip(dataset[\"Product Name shortened\"],dataset[\"Product Name\"]): \n",
    "        counter=0\n",
    "        thing=j.split()\n",
    "        if item2[0]!=j:\n",
    "            for i in splited:\n",
    "                if i in thing:\n",
    "                    counter+=1\n",
    "            if counter !=0:\n",
    "                dict[k]=counter\n",
    "    value= {k: v for k, v in sorted(dict.items(), key=lambda item: item[1],reverse=True)}\n",
    "    return(value.keys())"
   ]
  },
  {
   "cell_type": "code",
   "execution_count": 52,
   "id": "47d1ad82",
   "metadata": {},
   "outputs": [
    {
     "data": {
      "text/plain": [
       "dict_keys(['Sanford Liquid Accent Highlighters', 'SANFORD Major Accent™ Highlighters', 'Sanford Pocket Accent® Highlighters', '4009® Highlighters by Sanford', 'Staples Pen Style Liquid Stix; Assorted (yellow, pink, green, blue, orange), 5/Pack', 'Avery Hi-Liter® EverBold™ Pen Style Fluorescent Highlighters, 4/Pack', 'Sanford Uni-Blazer™ View Highlighters, Chisel Tip, Yellow', '*Staples* Highlighting Markers', 'DMI Arturo Collection Mission-style Design Wood Chair', 'Avery Hi-Liter Pen Style Six-Color Fluorescent Set', 'Zebra Zazzle Fluorescent Highlighters', 'Sanford 52201 APSCO Electric Pencil Sharpener', 'Avery Hi-Liter® Smear-Safe Highlighters', 'Avery Hi-Liter GlideStik Fluorescent Highlighter, Yellow Ink', 'Sanford Colorific Colored Pencils, 12/Box', 'Tensor \"Hersey Kiss\" Styled Floor Lamp', 'Sanford EarthWrite® Recycled Pencils, Medium Soft, #2', 'Avery Hi-Liter® Fluorescent Desk Style Markers', 'Avery Binding System Hidden Tab™ Executive Style Index Sets', 'Avery Hi-Liter Comfort Grip Fluorescent Highlighter, Yellow Ink', 'Ibico Recycled Linen-Style Covers', 'Binney & Smith inkTank™ Erasable Desk Highlighter, Chisel Tip, Yellow, 12/Box', 'Fluorescent Highlighters by Dixon', 'Sanford Colorific® Eraseable Coloring Pencils, 12 Count', 'Sanford Prismacolor® Professional Thick Lead Art Pencils, 36-Color Set', 'Binney & Smith inkTank™ Erasable Pocket Highlighter, Chisel Tip, Yellow'])"
      ]
     },
     "execution_count": 52,
     "metadata": {},
     "output_type": "execute_result"
    }
   ],
   "source": [
    "recommendation(\"SANFORD Liquid Accent™ Tank-Style Highlighters\") "
   ]
  },
  {
   "cell_type": "code",
   "execution_count": 25,
   "id": "044fd80c",
   "metadata": {},
   "outputs": [
    {
     "data": {
      "text/plain": [
       "{'Telescoping Adjustable Floor Lamp': 2,\n",
       " 'Westinghouse Floor Lamp with Metal Mesh Shade, Black': 2,\n",
       " 'Tensor Computer Mounted Lamp': 2,\n",
       " 'SANFORD Liquid Accent™ Tank-Style Highlighters': 1,\n",
       " 'DMI Arturo Collection Mission-style Design Wood Chair': 1,\n",
       " 'Avery Hi-Liter Pen Style Six-Color Fluorescent Set': 1,\n",
       " 'Dana Halogen Swing-Arm Architect Lamp': 1,\n",
       " '3M Polarizing Task Lamp with Clamp Arm, Light Gray': 1,\n",
       " 'Luxo Professional Combination Clamp-On Lamps': 1,\n",
       " 'Luxo Economy Swing Arm Lamp': 1,\n",
       " \"Electrix Architect's Clamp-On Swing Arm Lamp, Black\": 1,\n",
       " 'Hot File® 7-Pocket, Floor Stand': 1,\n",
       " 'Luxo Professional Fluorescent Magnifier Lamp with Clamp-Mount Base': 1,\n",
       " 'G.E. Halogen Desk Lamp Bulbs': 1,\n",
       " 'Westinghouse Clip-On Gooseneck Lamps': 1,\n",
       " 'Electrix 20W Halogen Replacement Bulb for Zoom-In Desk Lamp': 1,\n",
       " 'Avery Hi-Liter® Fluorescent Desk Style Markers': 1,\n",
       " 'Staples Pen Style Liquid Stix; Assorted (yellow, pink, green, blue, orange), 5/Pack': 1,\n",
       " 'Avery Binding System Hidden Tab™ Executive Style Index Sets': 1,\n",
       " 'Electrix Fluorescent Magnifier Lamps & Weighted Base': 1,\n",
       " 'Dana Fluorescent Magnifying Lamp, White, 36\"': 1,\n",
       " 'Electrix Incandescent Magnifying Lamp, Black': 1,\n",
       " 'Ibico Recycled Linen-Style Covers': 1,\n",
       " 'Electrix Halogen Magnifier Lamp': 1,\n",
       " 'Dana Swing-Arm Lamps': 1,\n",
       " 'Luxo Adjustable Task Clamp Lamp': 1,\n",
       " 'Avery Hi-Liter® EverBold™ Pen Style Fluorescent Highlighters, 4/Pack': 1}"
      ]
     },
     "execution_count": 25,
     "metadata": {},
     "output_type": "execute_result"
    }
   ],
   "source": [
    "recommendation('Tensor \"Hersey Kiss\" Styled Floor Lamp')"
   ]
  },
  {
   "cell_type": "code",
   "execution_count": 26,
   "id": "0ba58a3f",
   "metadata": {},
   "outputs": [
    {
     "data": {
      "text/plain": [
       "{\"Electrix Architect's Clamp-On Swing Arm Lamp, Black\": 3,\n",
       " 'Luxo Adjustable Task Clamp Lamp': 3,\n",
       " 'Dana Halogen Swing-Arm Architect Lamp': 2,\n",
       " '3M Polarizing Light Filter Sleeves': 2,\n",
       " 'Office Star - Contemporary Task Swivel chair with 2-way adjustable arms, Plum': 2,\n",
       " 'Luxo Professional Combination Clamp-On Lamps': 2,\n",
       " 'Luxo Economy Swing Arm Lamp': 2,\n",
       " 'Luxo Professional Fluorescent Magnifier Lamp with Clamp-Mount Base': 2,\n",
       " 'Office Star - Task Chair with Contemporary Loop Arms': 2,\n",
       " 'Hon 4700 Series Mobuis™ Mid-Back Task Chairs with Adjustable Arms': 2,\n",
       " 'Dana Swing-Arm Lamps': 2,\n",
       " 'Tyvek ® Top-Opening Peel & Seel ® Envelopes, Gray': 1,\n",
       " 'Fellowes Twister Kit, Gray/Clear, 3/pkg': 1,\n",
       " 'Novimex High-Tech Fabric Mesh Task Chair': 1,\n",
       " 'Global Leather Task Chair, Black': 1,\n",
       " 'Telescoping Adjustable Floor Lamp': 1,\n",
       " 'Office Star - Ergonomic Mid Back Chair with 2-Way Adjustable Arms': 1,\n",
       " 'Office Star - Mid Back Dual function Ergonomic High Back Chair with 2-Way Adjustable Arms': 1,\n",
       " 'Tennsco Lockers, Gray': 1,\n",
       " 'Tenex Personal Self-Stacking Standard File Box, Black/Gray': 1,\n",
       " 'SAFCO Optional Arm Kit for Workspace® Cribbage Stacking Chair': 1,\n",
       " 'Novimex Fabric Task Chair': 1,\n",
       " 'Hon Comfortask® Task/Swivel Chairs': 1,\n",
       " 'Novimex Turbo Task Chair': 1,\n",
       " 'Global Stack Chair without Arms, Black': 1,\n",
       " 'Hon Multipurpose Stacking Arm Chairs': 1,\n",
       " 'Pressboard Covers with Storage Hooks, 9 1/2\" x 11\", Light Blue': 1,\n",
       " 'Micro Innovations Micro Digital Wireless Keyboard and Mouse, Gray': 1,\n",
       " 'Tensor \"Hersey Kiss\" Styled Floor Lamp': 1,\n",
       " 'Boston Model 1800 Electric Pencil Sharpener, Gray': 1,\n",
       " 'G.E. Halogen Desk Lamp Bulbs': 1,\n",
       " 'Westinghouse Clip-On Gooseneck Lamps': 1,\n",
       " 'Bretford “Just In Time” Height-Adjustable Multi-Task Work Tables': 1,\n",
       " 'Master Caster Door Stop, Gray': 1,\n",
       " 'Electrix 20W Halogen Replacement Bulb for Zoom-In Desk Lamp': 1,\n",
       " 'Hon Every-Day® Chair Series Swivel Task Chairs': 1,\n",
       " 'Westinghouse Floor Lamp with Metal Mesh Shade, Black': 1,\n",
       " 'Novimex Swivel Fabric Task Chair': 1,\n",
       " 'Electrix Fluorescent Magnifier Lamps & Weighted Base': 1,\n",
       " 'Dana Fluorescent Magnifying Lamp, White, 36\"': 1,\n",
       " 'Global Deluxe Stacking Chair, Gray': 1,\n",
       " 'Tensor Computer Mounted Lamp': 1,\n",
       " 'Electrix Incandescent Magnifying Lamp, Black': 1,\n",
       " 'Electrix Halogen Magnifier Lamp': 1,\n",
       " 'Acco Pressboard Covers with Storage Hooks, 14 7/8\" x 11\", Light Blue': 1}"
      ]
     },
     "execution_count": 26,
     "metadata": {},
     "output_type": "execute_result"
    }
   ],
   "source": [
    "recommendation('3M Polarizing Task Lamp with Clamp Arm, Light Gray')"
   ]
  },
  {
   "cell_type": "markdown",
   "id": "a40bfdc7",
   "metadata": {},
   "source": [
    "## CLUSTERING"
   ]
  },
  {
   "cell_type": "code",
   "execution_count": 1,
   "id": "a7f340c1",
   "metadata": {},
   "outputs": [],
   "source": [
    "from sklearn.feature_extraction.text import TfidfVectorizer, CountVectorizer\n",
    "from sklearn.neighbors import NearestNeighbors\n",
    "from sklearn.cluster import KMeans\n",
    "from sklearn.metrics import adjusted_rand_score"
   ]
  },
  {
   "cell_type": "code",
   "execution_count": 29,
   "id": "5a2ccae8",
   "metadata": {},
   "outputs": [],
   "source": [
    "df=data.copy()"
   ]
  },
  {
   "cell_type": "code",
   "execution_count": 32,
   "id": "6399731c",
   "metadata": {},
   "outputs": [],
   "source": [
    "product_descriptions1 = df[\"Product Name\"]"
   ]
  },
  {
   "cell_type": "code",
   "execution_count": 53,
   "id": "617a7a57",
   "metadata": {},
   "outputs": [
    {
     "name": "stdout",
     "output_type": "stream",
     "text": [
      "  (0, 263)\t0.8677109547886955\n",
      "  (0, 455)\t0.4970691088165613\n",
      "  (1, 948)\t0.36972943053757384\n",
      "  (1, 1596)\t0.40132872379863543\n",
      "  (1, 1630)\t0.479621904564917\n",
      "  (1, 361)\t0.39976258302181855\n",
      "  (1, 1082)\t0.42883665805510796\n",
      "  (1, 1449)\t0.3584511545997468\n",
      "  (2, 105)\t0.9268887867530198\n",
      "  (2, 1781)\t0.3753360853841728\n",
      "  (3, 1461)\t0.3932687413216413\n",
      "  (3, 1569)\t0.3826650293194424\n",
      "  (3, 1555)\t0.45741243019535666\n",
      "  (3, 1337)\t0.5713284343483894\n",
      "  (3, 394)\t0.4040604673103251\n",
      "  (4, 1718)\t1.0\n",
      "  (5, 85)\t0.9132112202123406\n",
      "  (5, 1781)\t0.4074865240450143\n",
      "  (6, 1348)\t0.3681476412773901\n",
      "  (6, 1008)\t0.41062300124497153\n",
      "  (6, 617)\t0.37037752427511095\n",
      "  (6, 1444)\t0.6281571646755517\n",
      "  (6, 552)\t0.4050865722892796\n",
      "  (7, 1653)\t0.44237306451785874\n",
      "  (7, 1097)\t0.4051274204184562\n",
      "  :\t:\n",
      "  (9422, 1523)\t0.34070873404025875\n",
      "  (9422, 1376)\t0.4496886933097019\n",
      "  (9422, 775)\t0.2623609608466299\n",
      "  (9422, 603)\t0.34897341743925153\n",
      "  (9423, 472)\t0.40355055014023017\n",
      "  (9423, 1238)\t0.4350177622353716\n",
      "  (9423, 1200)\t0.38370290366874304\n",
      "  (9423, 534)\t0.38370290366874304\n",
      "  (9423, 595)\t0.3562430179134747\n",
      "  (9423, 1626)\t0.2676486430121581\n",
      "  (9423, 639)\t0.2702743128527989\n",
      "  (9423, 1771)\t0.286107628956649\n",
      "  (9424, 1485)\t0.3499431180492543\n",
      "  (9424, 1395)\t0.2644759651889053\n",
      "  (9424, 582)\t0.367713267775709\n",
      "  (9424, 1567)\t0.3772302430774931\n",
      "  (9424, 426)\t0.3562759558494807\n",
      "  (9424, 637)\t0.260717497561246\n",
      "  (9424, 307)\t0.3470679447351924\n",
      "  (9424, 252)\t0.3772302430774931\n",
      "  (9424, 1639)\t0.2690940162298171\n",
      "  (9425, 1)\t0.4684864869127719\n",
      "  (9425, 618)\t0.5740510847517282\n",
      "  (9425, 790)\t0.48148095972114746\n",
      "  (9425, 1563)\t0.4681472515154778\n"
     ]
    }
   ],
   "source": [
    "vectorizer = TfidfVectorizer(stop_words='english')\n",
    "X1 = vectorizer.fit_transform(product_descriptions1)\n",
    "print(X1)"
   ]
  },
  {
   "cell_type": "code",
   "execution_count": 35,
   "id": "0c42eb9d",
   "metadata": {},
   "outputs": [
    {
     "data": {
      "image/png": "[encoded data removed]",
      "text/plain": [
       "<Figure size 432x288 with 1 Axes>"
      ]
     },
     "metadata": {},
     "output_type": "display_data"
    }
   ],
   "source": [
    "X=X1\n",
    "\n",
    "kmeans = KMeans(n_clusters = 10, init = 'k-means++')\n",
    "y_kmeans = kmeans.fit_predict(X)\n",
    "plt.plot(y_kmeans, \".\")\n",
    "plt.show()"
   ]
  },
  {
   "cell_type": "code",
   "execution_count": 54,
   "id": "01528ce6",
   "metadata": {},
   "outputs": [
    {
     "data": {
      "text/plain": [
       "KMeans(n_clusters=10)"
      ]
     },
     "execution_count": 54,
     "metadata": {},
     "output_type": "execute_result"
    }
   ],
   "source": [
    "kmeans"
   ]
  },
  {
   "cell_type": "code",
   "execution_count": 36,
   "id": "2887eb3d",
   "metadata": {},
   "outputs": [],
   "source": [
    "def print_cluster(i):\n",
    "    print(\"Cluster %d:\" % i),\n",
    "    for ind in order_centroids[i, :10]:\n",
    "        print(' %s' % terms[ind]),\n",
    "    print"
   ]
  },
  {
   "cell_type": "code",
   "execution_count": 55,
   "id": "9f2edfef",
   "metadata": {},
   "outputs": [
    {
     "data": {
      "text/plain": [
       "array([[1563, 1250,  790, ..., 1151, 1152,    0],\n",
       "       [ 889,  580, 1060, ..., 1191, 1192,    0],\n",
       "       [ 826,  825, 1288, ..., 1157, 1158,  895],\n",
       "       ...,\n",
       "       [ 902, 1149,  720, ..., 1192, 1193,    0],\n",
       "       [ 608, 1747,  998, ..., 1192, 1193,    0],\n",
       "       [1196,  223,  196, ..., 1200, 1201,    0]], dtype=int64)"
      ]
     },
     "execution_count": 55,
     "metadata": {},
     "output_type": "execute_result"
    }
   ],
   "source": [
    "order_centroids"
   ]
  },
  {
   "cell_type": "code",
   "execution_count": 37,
   "id": "02efe57d",
   "metadata": {},
   "outputs": [
    {
     "name": "stdout",
     "output_type": "stream",
     "text": [
      "Top terms per cluster:\n",
      "Cluster 0:\n",
      " staples\n",
      " pack\n",
      " envelopes\n",
      " 10\n",
      " message\n",
      " dvd\n",
      " imation\n",
      " cd\n",
      " minute\n",
      " 80\n",
      "Cluster 1:\n",
      " global\n",
      " chair\n",
      " leather\n",
      " tilter\n",
      " executive\n",
      " low\n",
      " high\n",
      " black\n",
      " carpets\n",
      " burgundy\n",
      "Cluster 2:\n",
      " file\n",
      " fellowes\n",
      " personal\n",
      " stacking\n",
      " drawer\n",
      " box\n",
      " black\n",
      " files\n",
      " eldon\n",
      " stor\n",
      "Cluster 3:\n",
      " avery\n",
      " binders\n",
      " binder\n",
      " 494\n",
      " durable\n",
      " 481\n",
      " 508\n",
      " 506\n",
      " 491\n",
      " 51\n",
      "Cluster 4:\n",
      " binders\n",
      " gbc\n",
      " binding\n",
      " table\n",
      " series\n",
      " printer\n",
      " tables\n",
      " desk\n",
      " conference\n",
      " pencil\n",
      "Cluster 5:\n",
      " keyboard\n",
      " key\n",
      " microsoft\n",
      " belkin\n",
      " internet\n",
      " logitech\n",
      " black\n",
      " 104\n",
      " keytronic\n",
      " access\n",
      "Cluster 6:\n",
      " xerox\n",
      " 210\n",
      " 1881\n",
      " 21\n",
      " 1922\n",
      " 1894\n",
      " 1983\n",
      " 23\n",
      " 1893\n",
      " 188\n",
      "Cluster 7:\n",
      " gray\n",
      " micro\n",
      " digital\n",
      " innovations\n",
      " answering\n",
      " machine\n",
      " keyboard\n",
      " 1726\n",
      " lockers\n",
      " sharp\n",
      "Cluster 8:\n",
      " clock\n",
      " wall\n",
      " impressions\n",
      " executive\n",
      " diameter\n",
      " 12\n",
      " 13\n",
      " thomas\n",
      " seth\n",
      " round\n",
      "Cluster 9:\n",
      " newell\n",
      " 340\n",
      " 310\n",
      " 312\n",
      " 337\n",
      " 309\n",
      " 336\n",
      " 343\n",
      " 342\n",
      " 323\n"
     ]
    },
    {
     "name": "stderr",
     "output_type": "stream",
     "text": [
      "C:\\Users\\Taha PC\\anaconda3\\lib\\site-packages\\sklearn\\utils\\deprecation.py:87: FutureWarning: Function get_feature_names is deprecated; get_feature_names is deprecated in 1.0 and will be removed in 1.2. Please use get_feature_names_out instead.\n",
      "  warnings.warn(msg, category=FutureWarning)\n"
     ]
    }
   ],
   "source": [
    "true_k = 10\n",
    "\n",
    "model = KMeans(n_clusters=true_k, init='k-means++', max_iter=100, n_init=1)\n",
    "model.fit(X1)\n",
    "\n",
    "print(\"Top terms per cluster:\")\n",
    "order_centroids = model.cluster_centers_.argsort()[:, ::-1]\n",
    "terms = vectorizer.get_feature_names()\n",
    "for i in range(true_k):\n",
    "    print_cluster(i)"
   ]
  },
  {
   "cell_type": "code",
   "execution_count": 38,
   "id": "e8585637",
   "metadata": {},
   "outputs": [],
   "source": [
    "def show_recommendations(product):\n",
    "    #print(\"Cluster ID:\")\n",
    "    Y = vectorizer.transform([product])\n",
    "    prediction = model.predict(Y)\n",
    "    #print(prediction)\n",
    "    print_cluster(prediction[0])"
   ]
  },
  {
   "cell_type": "code",
   "execution_count": 40,
   "id": "a6a962af",
   "metadata": {},
   "outputs": [
    {
     "name": "stdout",
     "output_type": "stream",
     "text": [
      "Cluster 7:\n",
      " gray\n",
      " micro\n",
      " digital\n",
      " innovations\n",
      " answering\n",
      " machine\n",
      " keyboard\n",
      " 1726\n",
      " lockers\n",
      " sharp\n"
     ]
    }
   ],
   "source": [
    "show_recommendations('3M Polarizing Task Lamp with Clamp Arm, Light Gray')"
   ]
  },
  {
   "cell_type": "code",
   "execution_count": null,
   "id": "1b6ad643",
   "metadata": {},
   "outputs": [],
   "source": []
  }
 ],
 "metadata": {
  "kernelspec": {
   "display_name": "Python 3 (ipykernel)",
   "language": "python",
   "name": "python3"
  },
  "language_info": {
   "codemirror_mode": {
    "name": "ipython",
    "version": 3
   },
   "file_extension": ".py",
   "mimetype": "text/x-python",
   "name": "python",
   "nbconvert_exporter": "python",
   "pygments_lexer": "ipython3",
   "version": "3.9.12"
  }
 },
 "nbformat": 4,
 "nbformat_minor": 5
}
