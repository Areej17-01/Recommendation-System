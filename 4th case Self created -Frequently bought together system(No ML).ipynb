{
 "cells": [
  {
   "cell_type": "code",
   "execution_count": 2,
   "id": "18c5d347",
   "metadata": {},
   "outputs": [],
   "source": [
    "import numpy as np\n",
    "import pandas as pd\n",
    "import matplotlib.pyplot as plt\n",
    "import seaborn as sns\n",
    "sns.set()"
   ]
  },
  {
   "cell_type": "code",
   "execution_count": 3,
   "id": "6d6ba44d",
   "metadata": {},
   "outputs": [],
   "source": [
    "df=pd.read_excel(\"Superstore_USA.xlsx\")"
   ]
  },
  {
   "cell_type": "code",
   "execution_count": 4,
   "id": "4e91335f",
   "metadata": {},
   "outputs": [
    {
     "name": "stdout",
     "output_type": "stream",
     "text": [
      "<class 'pandas.core.frame.DataFrame'>\n",
      "RangeIndex: 9426 entries, 0 to 9425\n",
      "Data columns (total 24 columns):\n",
      " #   Column                Non-Null Count  Dtype         \n",
      "---  ------                --------------  -----         \n",
      " 0   Row ID                9426 non-null   int64         \n",
      " 1   Order Priority        9426 non-null   object        \n",
      " 2   Discount              9426 non-null   float64       \n",
      " 3   Unit Price            9426 non-null   float64       \n",
      " 4   Shipping Cost         9426 non-null   float64       \n",
      " 5   Customer ID           9426 non-null   int64         \n",
      " 6   Customer Name         9426 non-null   object        \n",
      " 7   Ship Mode             9426 non-null   object        \n",
      " 8   Customer Segment      9426 non-null   object        \n",
      " 9   Product Category      9426 non-null   object        \n",
      " 10  Product Sub-Category  9426 non-null   object        \n",
      " 11  Product Container     9426 non-null   object        \n",
      " 12  Product Name          9426 non-null   object        \n",
      " 13  Product Base Margin   9354 non-null   float64       \n",
      " 14  Region                9426 non-null   object        \n",
      " 15  State or Province     9426 non-null   object        \n",
      " 16  City                  9426 non-null   object        \n",
      " 17  Postal Code           9426 non-null   int64         \n",
      " 18  Order Date            9426 non-null   datetime64[ns]\n",
      " 19  Ship Date             9426 non-null   datetime64[ns]\n",
      " 20  Profit                9426 non-null   float64       \n",
      " 21  Quantity ordered new  9426 non-null   int64         \n",
      " 22  Sales                 9426 non-null   float64       \n",
      " 23  Order ID              9426 non-null   int64         \n",
      "dtypes: datetime64[ns](2), float64(6), int64(5), object(11)\n",
      "memory usage: 1.7+ MB\n"
     ]
    }
   ],
   "source": [
    "df.info()"
   ]
  },
  {
   "cell_type": "code",
   "execution_count": 5,
   "id": "0d801281",
   "metadata": {},
   "outputs": [],
   "source": [
    "data=df[df[\"Order ID\"].duplicated()]"
   ]
  },
  {
   "cell_type": "code",
   "execution_count": 6,
   "id": "1b9d3db3",
   "metadata": {},
   "outputs": [],
   "source": [
    "duplicated_dates=data[data[\"Order Date\"].duplicated(keep=False)]"
   ]
  },
  {
   "cell_type": "code",
   "execution_count": 7,
   "id": "58dc1e93",
   "metadata": {},
   "outputs": [],
   "source": [
    "dup=duplicated_dates[duplicated_dates[\"Order ID\"].duplicated(keep=False)]"
   ]
  },
  {
   "cell_type": "code",
   "execution_count": 8,
   "id": "c7742ff9",
   "metadata": {},
   "outputs": [
    {
     "data": {
      "text/html": [
       "<div>\n",
       "<style scoped>\n",
       "    .dataframe tbody tr th:only-of-type {\n",
       "        vertical-align: middle;\n",
       "    }\n",
       "\n",
       "    .dataframe tbody tr th {\n",
       "        vertical-align: top;\n",
       "    }\n",
       "\n",
       "    .dataframe thead th {\n",
       "        text-align: right;\n",
       "    }\n",
       "</style>\n",
       "<table border=\"1\" class=\"dataframe\">\n",
       "  <thead>\n",
       "    <tr style=\"text-align: right;\">\n",
       "      <th></th>\n",
       "      <th>Row ID</th>\n",
       "      <th>Order Priority</th>\n",
       "      <th>Discount</th>\n",
       "      <th>Unit Price</th>\n",
       "      <th>Shipping Cost</th>\n",
       "      <th>Customer ID</th>\n",
       "      <th>Customer Name</th>\n",
       "      <th>Ship Mode</th>\n",
       "      <th>Customer Segment</th>\n",
       "      <th>Product Category</th>\n",
       "      <th>...</th>\n",
       "      <th>Region</th>\n",
       "      <th>State or Province</th>\n",
       "      <th>City</th>\n",
       "      <th>Postal Code</th>\n",
       "      <th>Order Date</th>\n",
       "      <th>Ship Date</th>\n",
       "      <th>Profit</th>\n",
       "      <th>Quantity ordered new</th>\n",
       "      <th>Sales</th>\n",
       "      <th>Order ID</th>\n",
       "    </tr>\n",
       "  </thead>\n",
       "  <tbody>\n",
       "    <tr>\n",
       "      <th>9310</th>\n",
       "      <td>24529</td>\n",
       "      <td>Critical</td>\n",
       "      <td>0.08</td>\n",
       "      <td>39.48</td>\n",
       "      <td>1.99</td>\n",
       "      <td>3368</td>\n",
       "      <td>Marian Alexander</td>\n",
       "      <td>Express Air</td>\n",
       "      <td>Home Office</td>\n",
       "      <td>Technology</td>\n",
       "      <td>...</td>\n",
       "      <td>East</td>\n",
       "      <td>Ohio</td>\n",
       "      <td>Warren</td>\n",
       "      <td>44483</td>\n",
       "      <td>2012-01-11</td>\n",
       "      <td>2012-01-13</td>\n",
       "      <td>299.5842</td>\n",
       "      <td>11</td>\n",
       "      <td>434.18</td>\n",
       "      <td>90504</td>\n",
       "    </tr>\n",
       "    <tr>\n",
       "      <th>9311</th>\n",
       "      <td>24530</td>\n",
       "      <td>Critical</td>\n",
       "      <td>0.04</td>\n",
       "      <td>6.48</td>\n",
       "      <td>5.40</td>\n",
       "      <td>3368</td>\n",
       "      <td>Marian Alexander</td>\n",
       "      <td>Regular Air</td>\n",
       "      <td>Home Office</td>\n",
       "      <td>Office Supplies</td>\n",
       "      <td>...</td>\n",
       "      <td>East</td>\n",
       "      <td>Ohio</td>\n",
       "      <td>Warren</td>\n",
       "      <td>44483</td>\n",
       "      <td>2012-01-11</td>\n",
       "      <td>2012-01-13</td>\n",
       "      <td>-11.0236</td>\n",
       "      <td>1</td>\n",
       "      <td>11.87</td>\n",
       "      <td>90504</td>\n",
       "    </tr>\n",
       "  </tbody>\n",
       "</table>\n",
       "<p>2 rows × 24 columns</p>\n",
       "</div>"
      ],
      "text/plain": [
       "      Row ID Order Priority  Discount  Unit Price  Shipping Cost  Customer ID  \\\n",
       "9310   24529       Critical      0.08       39.48           1.99         3368   \n",
       "9311   24530       Critical      0.04        6.48           5.40         3368   \n",
       "\n",
       "         Customer Name    Ship Mode Customer Segment Product Category  ...  \\\n",
       "9310  Marian Alexander  Express Air      Home Office       Technology  ...   \n",
       "9311  Marian Alexander  Regular Air      Home Office  Office Supplies  ...   \n",
       "\n",
       "     Region State or Province    City  Postal Code Order Date  Ship Date  \\\n",
       "9310   East              Ohio  Warren        44483 2012-01-11 2012-01-13   \n",
       "9311   East              Ohio  Warren        44483 2012-01-11 2012-01-13   \n",
       "\n",
       "        Profit  Quantity ordered new   Sales Order ID  \n",
       "9310  299.5842                    11  434.18    90504  \n",
       "9311  -11.0236                     1   11.87    90504  \n",
       "\n",
       "[2 rows x 24 columns]"
      ]
     },
     "execution_count": 8,
     "metadata": {},
     "output_type": "execute_result"
    }
   ],
   "source": [
    "dup[dup[\"Order ID\"]==90504]"
   ]
  },
  {
   "cell_type": "code",
   "execution_count": 9,
   "id": "37ede861",
   "metadata": {},
   "outputs": [
    {
     "data": {
      "text/plain": [
       "Index(['Row ID', 'Order Priority', 'Discount', 'Unit Price', 'Shipping Cost',\n",
       "       'Customer ID', 'Customer Name', 'Ship Mode', 'Customer Segment',\n",
       "       'Product Category', 'Product Sub-Category', 'Product Container',\n",
       "       'Product Name', 'Product Base Margin', 'Region', 'State or Province',\n",
       "       'City', 'Postal Code', 'Order Date', 'Ship Date', 'Profit',\n",
       "       'Quantity ordered new', 'Sales', 'Order ID'],\n",
       "      dtype='object')"
      ]
     },
     "execution_count": 9,
     "metadata": {},
     "output_type": "execute_result"
    }
   ],
   "source": [
    "dup.columns"
   ]
  },
  {
   "cell_type": "markdown",
   "id": "f0aca3c5",
   "metadata": {},
   "source": [
    "### checking for repeatative products"
   ]
  },
  {
   "cell_type": "code",
   "execution_count": 84,
   "id": "7cd08bb1",
   "metadata": {},
   "outputs": [
    {
     "data": {
      "text/html": [
       "<div>\n",
       "<style scoped>\n",
       "    .dataframe tbody tr th:only-of-type {\n",
       "        vertical-align: middle;\n",
       "    }\n",
       "\n",
       "    .dataframe tbody tr th {\n",
       "        vertical-align: top;\n",
       "    }\n",
       "\n",
       "    .dataframe thead th {\n",
       "        text-align: right;\n",
       "    }\n",
       "</style>\n",
       "<table border=\"1\" class=\"dataframe\">\n",
       "  <thead>\n",
       "    <tr style=\"text-align: right;\">\n",
       "      <th></th>\n",
       "      <th>Order ID</th>\n",
       "      <th>Product Name</th>\n",
       "    </tr>\n",
       "  </thead>\n",
       "  <tbody>\n",
       "    <tr>\n",
       "      <th>114</th>\n",
       "      <td>91579</td>\n",
       "      <td>Executive Impressions 12\" Wall Clock</td>\n",
       "    </tr>\n",
       "    <tr>\n",
       "      <th>2300</th>\n",
       "      <td>89546</td>\n",
       "      <td>Executive Impressions 12\" Wall Clock</td>\n",
       "    </tr>\n",
       "    <tr>\n",
       "      <th>5380</th>\n",
       "      <td>46565</td>\n",
       "      <td>Executive Impressions 12\" Wall Clock</td>\n",
       "    </tr>\n",
       "    <tr>\n",
       "      <th>5394</th>\n",
       "      <td>90572</td>\n",
       "      <td>Executive Impressions 12\" Wall Clock</td>\n",
       "    </tr>\n",
       "  </tbody>\n",
       "</table>\n",
       "</div>"
      ],
      "text/plain": [
       "      Order ID                          Product Name\n",
       "114      91579  Executive Impressions 12\" Wall Clock\n",
       "2300     89546  Executive Impressions 12\" Wall Clock\n",
       "5380     46565  Executive Impressions 12\" Wall Clock\n",
       "5394     90572  Executive Impressions 12\" Wall Clock"
      ]
     },
     "execution_count": 84,
     "metadata": {},
     "output_type": "execute_result"
    }
   ],
   "source": [
    "dup[dup['Product Name']=='Executive Impressions 12\" Wall Clock'][['Order ID','Product Name']]"
   ]
  },
  {
   "cell_type": "code",
   "execution_count": 85,
   "id": "df7a34bd",
   "metadata": {},
   "outputs": [
    {
     "data": {
      "text/html": [
       "<div>\n",
       "<style scoped>\n",
       "    .dataframe tbody tr th:only-of-type {\n",
       "        vertical-align: middle;\n",
       "    }\n",
       "\n",
       "    .dataframe tbody tr th {\n",
       "        vertical-align: top;\n",
       "    }\n",
       "\n",
       "    .dataframe thead th {\n",
       "        text-align: right;\n",
       "    }\n",
       "</style>\n",
       "<table border=\"1\" class=\"dataframe\">\n",
       "  <thead>\n",
       "    <tr style=\"text-align: right;\">\n",
       "      <th></th>\n",
       "      <th>Order ID</th>\n",
       "      <th>Product Name</th>\n",
       "    </tr>\n",
       "  </thead>\n",
       "  <tbody>\n",
       "    <tr>\n",
       "      <th>5380</th>\n",
       "      <td>46565</td>\n",
       "      <td>Executive Impressions 12\" Wall Clock</td>\n",
       "    </tr>\n",
       "    <tr>\n",
       "      <th>5381</th>\n",
       "      <td>46565</td>\n",
       "      <td>Space Solutions Commercial Steel Shelving</td>\n",
       "    </tr>\n",
       "  </tbody>\n",
       "</table>\n",
       "</div>"
      ],
      "text/plain": [
       "      Order ID                               Product Name\n",
       "5380     46565       Executive Impressions 12\" Wall Clock\n",
       "5381     46565  Space Solutions Commercial Steel Shelving"
      ]
     },
     "execution_count": 85,
     "metadata": {},
     "output_type": "execute_result"
    }
   ],
   "source": [
    "dup[dup['Order ID']==46565][['Order ID','Product Name']]"
   ]
  },
  {
   "cell_type": "code",
   "execution_count": 10,
   "id": "dd7648c3",
   "metadata": {},
   "outputs": [],
   "source": [
    "#freq bought together\n",
    "#micro keyboard\n",
    "#global tm\n",
    "#space =2"
   ]
  },
  {
   "cell_type": "code",
   "execution_count": 11,
   "id": "c06061d9",
   "metadata": {},
   "outputs": [],
   "source": [
    "order=dup[\"Order ID\"].unique()"
   ]
  },
  {
   "cell_type": "code",
   "execution_count": 12,
   "id": "4553ed33",
   "metadata": {},
   "outputs": [],
   "source": [
    "product=dup['Product Name'].unique()"
   ]
  },
  {
   "cell_type": "code",
   "execution_count": 13,
   "id": "8c11d37d",
   "metadata": {},
   "outputs": [],
   "source": [
    "# for i in product:\n",
    "#     for j in order:\n",
    "#         ds=dup[dup[\"Order ID\"]==j]\n",
    "#         temp=ds[ds[\"Product Name\"]==i]\n",
    "#         if len(temp)>0:\n",
    "#             print(len(temp))\n",
    "#             print(\"*********\")"
   ]
  },
  {
   "cell_type": "code",
   "execution_count": 14,
   "id": "1bf37571",
   "metadata": {},
   "outputs": [],
   "source": [
    "list=[]\n",
    "for i in range(len(product)):\n",
    "    list.append(np.nan)\n",
    "final_df=pd.DataFrame([list])\n",
    "final_df.columns=product"
   ]
  },
  {
   "cell_type": "markdown",
   "id": "e2531762",
   "metadata": {},
   "source": [
    "### checking order id to know if there are prducts people are buying together and then filtering on this basis by checking which products are mostly bought together"
   ]
  },
  {
   "cell_type": "code",
   "execution_count": null,
   "id": "60c8f66e",
   "metadata": {
    "scrolled": true
   },
   "outputs": [],
   "source": [
    "dict={}\n",
    "list1=[]\n",
    "for i in product:\n",
    "   \n",
    "    #print(i ,\"PRODUCT\")\n",
    "    for j in order:\n",
    "        ds=dup[dup[\"Order ID\"]==j]\n",
    "        temp=ds[ds[\"Product Name\"]==i]\n",
    "        if len(temp)>0:\n",
    "           \n",
    "            atp=ds[ds[\"Product Name\"]!=i]\n",
    "            if len(atp) >0:\n",
    "                for k in atp[\"Product Name\"]:\n",
    "                    #print(k)\n",
    "                    if k not in dict:\n",
    "                        dict[k]=1\n",
    "                    else:\n",
    "                        dict[k]+=1\n",
    "    \n",
    "    list1.append(dict)\n",
    "    #print(dict)\n",
    "    dict={}\n"
   ]
  },
  {
   "cell_type": "code",
   "execution_count": 18,
   "id": "0d08eaec",
   "metadata": {},
   "outputs": [
    {
     "data": {
      "text/plain": [
       "[{'V70': 1,\n",
       "  'Eldon® Executive Woodline II Desk Accessories, Mahogany': 1,\n",
       "  '8290': 1},\n",
       " {'Acme® Preferred Stainless Steel Scissors': 1, 'Super Bands, 12/Pack': 1},\n",
       " {'Accessory34': 1},\n",
       " {'*Staples* Highlighting Markers': 1,\n",
       "  'Bush Westfield Collection Bookcases, Dark Cherry Finish, Fully Assembled': 1,\n",
       "  'CF 688': 1},\n",
       " {'Newell 351': 1, 'OIC Colored Binder Clips, Assorted Sizes': 1},\n",
       " {'Newell 321': 1, 'OIC Colored Binder Clips, Assorted Sizes': 1, 'i1000': 1},\n",
       " {'Newell 321': 1,\n",
       "  'Newell 351': 1,\n",
       "  'X-Rack™ File for Hanging Folders': 1,\n",
       "  'Balt Solid Wood Rectangular Table': 1},\n",
       " {'Xerox 1968': 1, 'Xerox 1978': 1},\n",
       " {'Wirebound Message Books, Four 2 3/4\" x 5\" Forms per Page, 600 Sets per Book': 1,\n",
       "  'Xerox 1978': 1,\n",
       "  'Microsoft Natural Multimedia Keyboard': 2,\n",
       "  'T61': 2,\n",
       "  '3M Office Air Cleaner': 2,\n",
       "  'Acco Clips to Go™ Binder Clips, 24 Clips in Two Sizes': 2},\n",
       " {'Wirebound Message Books, Four 2 3/4\" x 5\" Forms per Page, 600 Sets per Book': 1,\n",
       "  'Xerox 1968': 1,\n",
       "  'Black Print Carbonless Snap-Off® Rapid Letter, 8 1/2\" x 7\"': 1}]"
      ]
     },
     "execution_count": 18,
     "metadata": {},
     "output_type": "execute_result"
    }
   ],
   "source": [
    "list1[:10]"
   ]
  },
  {
   "cell_type": "code",
   "execution_count": 19,
   "id": "6501d344",
   "metadata": {},
   "outputs": [],
   "source": [
    "x={'Wirebound Message Books, Four 2 3/4\" x 5\" Forms per Page, 600 Sets per Book': 2, 'Xerox 1978': 1, 'Microsoft Natural Multimedia Keyboard': 1, 'T61': 1, '3M Office Air Cleaner': 1, 'Acco Clips to Go™ Binder Clips, 24 Clips in Two Sizes': 1}\n"
   ]
  },
  {
   "cell_type": "code",
   "execution_count": 20,
   "id": "49732bc7",
   "metadata": {},
   "outputs": [
    {
     "data": {
      "text/plain": [
       "{'Wirebound Message Books, Four 2 3/4\" x 5\" Forms per Page, 600 Sets per Book': 2,\n",
       " 'Xerox 1978': 1,\n",
       " 'Microsoft Natural Multimedia Keyboard': 1,\n",
       " 'T61': 1,\n",
       " '3M Office Air Cleaner': 1,\n",
       " 'Acco Clips to Go™ Binder Clips, 24 Clips in Two Sizes': 1}"
      ]
     },
     "execution_count": 20,
     "metadata": {},
     "output_type": "execute_result"
    }
   ],
   "source": [
    " {k: v for k, v in sorted(x.items(), key=lambda item: item[1],reverse=True)}"
   ]
  },
  {
   "cell_type": "code",
   "execution_count": 21,
   "id": "f892f69f",
   "metadata": {},
   "outputs": [],
   "source": [
    "dict={}\n",
    "list1=[]\n",
    "def enter_product(i):\n",
    "    dict={}\n",
    "    print(i ,\"PRODUCT\")\n",
    "    for j in order:\n",
    "        ds=dup[dup[\"Order ID\"]==j]\n",
    "        temp=ds[ds[\"Product Name\"]==i]\n",
    "        if len(temp)>0:\n",
    "           \n",
    "            atp=ds[ds[\"Product Name\"]!=i]\n",
    "            if len(atp) >0:\n",
    "                for k in atp[\"Product Name\"]:\n",
    "                    #print(k)\n",
    "                    if k not in dict:\n",
    "                        dict[k]=1\n",
    "                    else:\n",
    "                        dict[k]+=1\n",
    "    \n",
    "    list1.append(dict)\n",
    "    value= {k: v for k, v in sorted(dict.items(), key=lambda item: item[1],reverse=True)}\n",
    "    print(\"\\n products that are frequently bought together analysis\")\n",
    "    \n",
    "    return(value)\n",
    "\n",
    "    dict={}\n"
   ]
  },
  {
   "cell_type": "markdown",
   "id": "a9a5a50e",
   "metadata": {},
   "source": [
    "## Products bought together and visualization"
   ]
  },
  {
   "cell_type": "code",
   "execution_count": 22,
   "id": "b388797b",
   "metadata": {},
   "outputs": [
    {
     "name": "stdout",
     "output_type": "stream",
     "text": [
      "Executive Impressions 12\" Wall Clock PRODUCT\n",
      "\n",
      " products that are frequently bought together analysis\n"
     ]
    },
    {
     "data": {
      "text/plain": [
       "{'Space Solutions Commercial Steel Shelving': 2,\n",
       " 'Microsoft Multimedia Keyboard': 1,\n",
       " 'Global Adaptabilities™ Conference Tables': 1}"
      ]
     },
     "execution_count": 22,
     "metadata": {},
     "output_type": "execute_result"
    }
   ],
   "source": [
    "val=enter_product('Executive Impressions 12\" Wall Clock')\n",
    "val"
   ]
  },
  {
   "cell_type": "code",
   "execution_count": 23,
   "id": "f32ccfc1",
   "metadata": {},
   "outputs": [
    {
     "name": "stdout",
     "output_type": "stream",
     "text": [
      "Space Solutions Commercial Steel Shelving PRODUCT\n",
      "\n",
      " products that are frequently bought together analysis\n"
     ]
    },
    {
     "data": {
      "text/plain": [
       "{'Executive Impressions 12\" Wall Clock': 2,\n",
       " 'Acme® Elite Stainless Steel Scissors': 1}"
      ]
     },
     "execution_count": 23,
     "metadata": {},
     "output_type": "execute_result"
    }
   ],
   "source": [
    "val=enter_product('Space Solutions Commercial Steel Shelving')\n",
    "val"
   ]
  },
  {
   "cell_type": "code",
   "execution_count": 24,
   "id": "6ebca9c3",
   "metadata": {},
   "outputs": [
    {
     "data": {
      "text/plain": [
       "0    Executive Impressions 12\" Wall Clock\n",
       "1    Acme® Elite Stainless Steel Scissors\n",
       "Name: 0, dtype: object"
      ]
     },
     "execution_count": 24,
     "metadata": {},
     "output_type": "execute_result"
    }
   ],
   "source": [
    "val=pd.DataFrame(val.items())\n",
    "val[0]"
   ]
  },
  {
   "cell_type": "code",
   "execution_count": 25,
   "id": "77db080b",
   "metadata": {},
   "outputs": [
    {
     "data": {
      "text/plain": [
       "<AxesSubplot:xlabel='0', ylabel='1'>"
      ]
     },
     "execution_count": 25,
     "metadata": {},
     "output_type": "execute_result"
    },
    {
     "data": {
      "image/png": "[encoded data removed]",
      "text/plain": [
       "<Figure size 720x288 with 1 Axes>"
      ]
     },
     "metadata": {},
     "output_type": "display_data"
    }
   ],
   "source": [
    "plt.figure(figsize=(10,4))\n",
    "sns.barplot(x=val[0],y=val[1])"
   ]
  },
  {
   "cell_type": "code",
   "execution_count": null,
   "id": "db3de744",
   "metadata": {},
   "outputs": [],
   "source": []
  }
 ],
 "metadata": {
  "kernelspec": {
   "display_name": "Python 3 (ipykernel)",
   "language": "python",
   "name": "python3"
  },
  "language_info": {
   "codemirror_mode": {
    "name": "ipython",
    "version": 3
   },
   "file_extension": ".py",
   "mimetype": "text/x-python",
   "name": "python",
   "nbconvert_exporter": "python",
   "pygments_lexer": "ipython3",
   "version": "3.9.12"
  }
 },
 "nbformat": 4,
 "nbformat_minor": 5
}
